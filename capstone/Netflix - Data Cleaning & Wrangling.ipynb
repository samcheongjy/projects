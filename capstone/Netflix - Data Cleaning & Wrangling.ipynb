{
 "cells": [
  {
   "cell_type": "markdown",
   "metadata": {},
   "source": [
    "<a id='section_id'></a>\n",
    "# Netflix Movie Recommender"
   ]
  },
  {
   "cell_type": "markdown",
   "metadata": {},
   "source": [
    "## Problem Statement\n",
    "The goal of this project is to build a recommender system to help users find movies and shows that fit their preferences and tastes so that they will be more likely to maintain a subscription with Netflix. Due to user privacy issues and the unavailability of datasets containing both movie content details and user ratings, we would be using _two_ separate datasets to build _two_ distinct recommender systems - **Content-Based Filtering Model** and **Collaborative Filtering Model**.  \n",
    "\n",
    "This has been a core focus for Netflix in recent years. Based on an academic paper penned by Gomez-Uribe and Netflix's Chief Product Officer Neil Hunt, they assert that ['the combined effect of personalization and recommendations is estimated to save them more than \\\\$1 billion per year.'](https://www.businessinsider.sg/netflix-recommendation-engine-worth-1-billion-per-year-2016-6?r=US&IR=T) This would be a significant area of cost savings for the tech giant as it is expected to spend more than [\\\\$17 billion on global content](https://variety.com/2020/digital/news/netflix-2020-content-spending-17-billion-1203469237/) for the current financial year.\n",
    "\n",
    "### 90 Seconds of Truth\n",
    "Based on findings from Netflix - “Consumer research suggests that a typical Netflix member loses interest after perhaps 60 to 90 seconds of choosing, having reviewed 10 to 20 titles (perhaps 3 in detail) on one or two screens. The user either finds something of interest or the risk of the user abandoning our service increases substantially.” Furthermore, Netflix estimates that only 20% of its subscriber video choices come from search, with the other 80% coming from recommendations. So it’s crucial that Netflix gets its recommendation system right.\n",
    "\n",
    "The end goal of the engine is “moments of truth,” when “a member starts a session and we help that member find something engaging within a few seconds, preventing abandonment of our service for an alternative entertainment option.”"
   ]
  },
  {
   "cell_type": "markdown",
   "metadata": {},
   "source": [
    "### Summary of Notebooks\n",
    "1. [Data Cleaning & Wrangling](#section_id)\n",
    "2. [EDA](Netflix-EDA.ipynb#section_id2)\n",
    "3. [Content Based Filtering Model](Netflix-Content_Based_Filtering_Model.ipynb#section_id3)\n",
    "4. [Collaborative Filtering](Netflix-Collaborative_Filtering.ipynb#section_id4)"
   ]
  },
  {
   "cell_type": "markdown",
   "metadata": {},
   "source": [
    "### Load Libraries"
   ]
  },
  {
   "cell_type": "code",
   "execution_count": 1,
   "metadata": {},
   "outputs": [],
   "source": [
    "import pandas as pd\n",
    "import numpy as np\n",
    "\n",
    "from rake_nltk import Rake"
   ]
  },
  {
   "cell_type": "markdown",
   "metadata": {},
   "source": [
    "To display all the information from the columns and rows."
   ]
  },
  {
   "cell_type": "code",
   "execution_count": 2,
   "metadata": {},
   "outputs": [],
   "source": [
    "pd.set_option('display.max_colwidth', -1)\n",
    "pd.set_option('display.max_rows', None)\n",
    "pd.set_option('display.max_columns', None)\n",
    "pd.set_option('display.width', None)"
   ]
  },
  {
   "cell_type": "markdown",
   "metadata": {},
   "source": [
    "## Background of Dataset"
   ]
  },
  {
   "cell_type": "markdown",
   "metadata": {},
   "source": [
    "This dataset is obtained from [Kaggle](https://www.kaggle.com/shivamb/netflix-shows) and consists of tv shows and movies available on Netflix as of 2019. The dataset is collected from [Flixable](https://flixable.com) which is a third-party Netflix search engine."
   ]
  },
  {
   "cell_type": "markdown",
   "metadata": {},
   "source": [
    "### Load Dataset"
   ]
  },
  {
   "cell_type": "code",
   "execution_count": 3,
   "metadata": {},
   "outputs": [
    {
     "data": {
      "text/html": [
       "<div>\n",
       "<style scoped>\n",
       "    .dataframe tbody tr th:only-of-type {\n",
       "        vertical-align: middle;\n",
       "    }\n",
       "\n",
       "    .dataframe tbody tr th {\n",
       "        vertical-align: top;\n",
       "    }\n",
       "\n",
       "    .dataframe thead th {\n",
       "        text-align: right;\n",
       "    }\n",
       "</style>\n",
       "<table border=\"1\" class=\"dataframe\">\n",
       "  <thead>\n",
       "    <tr style=\"text-align: right;\">\n",
       "      <th></th>\n",
       "      <th>show_id</th>\n",
       "      <th>type</th>\n",
       "      <th>title</th>\n",
       "      <th>director</th>\n",
       "      <th>cast</th>\n",
       "      <th>country</th>\n",
       "      <th>date_added</th>\n",
       "      <th>release_year</th>\n",
       "      <th>rating</th>\n",
       "      <th>duration</th>\n",
       "      <th>listed_in</th>\n",
       "      <th>description</th>\n",
       "    </tr>\n",
       "  </thead>\n",
       "  <tbody>\n",
       "    <tr>\n",
       "      <td>0</td>\n",
       "      <td>81145628</td>\n",
       "      <td>Movie</td>\n",
       "      <td>Norm of the North: King Sized Adventure</td>\n",
       "      <td>Richard Finn, Tim Maltby</td>\n",
       "      <td>Alan Marriott, Andrew Toth, Brian Dobson, Cole Howard, Jennifer Cameron, Jonathan Holmes, Lee Tockar, Lisa Durupt, Maya Kay, Michael Dobson</td>\n",
       "      <td>United States, India, South Korea, China</td>\n",
       "      <td>September 9, 2019</td>\n",
       "      <td>2019</td>\n",
       "      <td>TV-PG</td>\n",
       "      <td>90 min</td>\n",
       "      <td>Children &amp; Family Movies, Comedies</td>\n",
       "      <td>Before planning an awesome wedding for his grandfather, a polar bear king must take back a stolen artifact from an evil archaeologist first.</td>\n",
       "    </tr>\n",
       "    <tr>\n",
       "      <td>1</td>\n",
       "      <td>80117401</td>\n",
       "      <td>Movie</td>\n",
       "      <td>Jandino: Whatever it Takes</td>\n",
       "      <td>NaN</td>\n",
       "      <td>Jandino Asporaat</td>\n",
       "      <td>United Kingdom</td>\n",
       "      <td>September 9, 2016</td>\n",
       "      <td>2016</td>\n",
       "      <td>TV-MA</td>\n",
       "      <td>94 min</td>\n",
       "      <td>Stand-Up Comedy</td>\n",
       "      <td>Jandino Asporaat riffs on the challenges of raising kids and serenades the audience with a rousing rendition of \"Sex on Fire\" in his comedy show.</td>\n",
       "    </tr>\n",
       "    <tr>\n",
       "      <td>2</td>\n",
       "      <td>70234439</td>\n",
       "      <td>TV Show</td>\n",
       "      <td>Transformers Prime</td>\n",
       "      <td>NaN</td>\n",
       "      <td>Peter Cullen, Sumalee Montano, Frank Welker, Jeffrey Combs, Kevin Michael Richardson, Tania Gunadi, Josh Keaton, Steve Blum, Andy Pessoa, Ernie Hudson, Daran Norris, Will Friedle</td>\n",
       "      <td>United States</td>\n",
       "      <td>September 8, 2018</td>\n",
       "      <td>2013</td>\n",
       "      <td>TV-Y7-FV</td>\n",
       "      <td>1 Season</td>\n",
       "      <td>Kids' TV</td>\n",
       "      <td>With the help of three human allies, the Autobots once again protect Earth from the onslaught of the Decepticons and their leader, Megatron.</td>\n",
       "    </tr>\n",
       "    <tr>\n",
       "      <td>3</td>\n",
       "      <td>80058654</td>\n",
       "      <td>TV Show</td>\n",
       "      <td>Transformers: Robots in Disguise</td>\n",
       "      <td>NaN</td>\n",
       "      <td>Will Friedle, Darren Criss, Constance Zimmer, Khary Payton, Mitchell Whitfield, Stuart Allan, Ted McGinley, Peter Cullen</td>\n",
       "      <td>United States</td>\n",
       "      <td>September 8, 2018</td>\n",
       "      <td>2016</td>\n",
       "      <td>TV-Y7</td>\n",
       "      <td>1 Season</td>\n",
       "      <td>Kids' TV</td>\n",
       "      <td>When a prison ship crash unleashes hundreds of Decepticons on Earth, Bumblebee leads a new Autobot force to protect humankind.</td>\n",
       "    </tr>\n",
       "    <tr>\n",
       "      <td>4</td>\n",
       "      <td>80125979</td>\n",
       "      <td>Movie</td>\n",
       "      <td>#realityhigh</td>\n",
       "      <td>Fernando Lebrija</td>\n",
       "      <td>Nesta Cooper, Kate Walsh, John Michael Higgins, Keith Powers, Alicia Sanz, Jake Borelli, Kid Ink, Yousef Erakat, Rebekah Graf, Anne Winters, Peter Gilroy, Patrick Davis</td>\n",
       "      <td>United States</td>\n",
       "      <td>September 8, 2017</td>\n",
       "      <td>2017</td>\n",
       "      <td>TV-14</td>\n",
       "      <td>99 min</td>\n",
       "      <td>Comedies</td>\n",
       "      <td>When nerdy high schooler Dani finally attracts the interest of her longtime crush, she lands in the cross hairs of his ex, a social media celebrity.</td>\n",
       "    </tr>\n",
       "  </tbody>\n",
       "</table>\n",
       "</div>"
      ],
      "text/plain": [
       "    show_id     type                                    title  \\\n",
       "0  81145628  Movie    Norm of the North: King Sized Adventure   \n",
       "1  80117401  Movie    Jandino: Whatever it Takes                \n",
       "2  70234439  TV Show  Transformers Prime                        \n",
       "3  80058654  TV Show  Transformers: Robots in Disguise          \n",
       "4  80125979  Movie    #realityhigh                              \n",
       "\n",
       "                   director  \\\n",
       "0  Richard Finn, Tim Maltby   \n",
       "1  NaN                        \n",
       "2  NaN                        \n",
       "3  NaN                        \n",
       "4  Fernando Lebrija           \n",
       "\n",
       "                                                                                                                                                                                 cast  \\\n",
       "0  Alan Marriott, Andrew Toth, Brian Dobson, Cole Howard, Jennifer Cameron, Jonathan Holmes, Lee Tockar, Lisa Durupt, Maya Kay, Michael Dobson                                          \n",
       "1  Jandino Asporaat                                                                                                                                                                     \n",
       "2  Peter Cullen, Sumalee Montano, Frank Welker, Jeffrey Combs, Kevin Michael Richardson, Tania Gunadi, Josh Keaton, Steve Blum, Andy Pessoa, Ernie Hudson, Daran Norris, Will Friedle   \n",
       "3  Will Friedle, Darren Criss, Constance Zimmer, Khary Payton, Mitchell Whitfield, Stuart Allan, Ted McGinley, Peter Cullen                                                             \n",
       "4  Nesta Cooper, Kate Walsh, John Michael Higgins, Keith Powers, Alicia Sanz, Jake Borelli, Kid Ink, Yousef Erakat, Rebekah Graf, Anne Winters, Peter Gilroy, Patrick Davis             \n",
       "\n",
       "                                    country         date_added  release_year  \\\n",
       "0  United States, India, South Korea, China  September 9, 2019  2019           \n",
       "1  United Kingdom                            September 9, 2016  2016           \n",
       "2  United States                             September 8, 2018  2013           \n",
       "3  United States                             September 8, 2018  2016           \n",
       "4  United States                             September 8, 2017  2017           \n",
       "\n",
       "     rating  duration                           listed_in  \\\n",
       "0  TV-PG     90 min    Children & Family Movies, Comedies   \n",
       "1  TV-MA     94 min    Stand-Up Comedy                      \n",
       "2  TV-Y7-FV  1 Season  Kids' TV                             \n",
       "3  TV-Y7     1 Season  Kids' TV                             \n",
       "4  TV-14     99 min    Comedies                             \n",
       "\n",
       "                                                                                                                                            description  \n",
       "0  Before planning an awesome wedding for his grandfather, a polar bear king must take back a stolen artifact from an evil archaeologist first.          \n",
       "1  Jandino Asporaat riffs on the challenges of raising kids and serenades the audience with a rousing rendition of \"Sex on Fire\" in his comedy show.     \n",
       "2  With the help of three human allies, the Autobots once again protect Earth from the onslaught of the Decepticons and their leader, Megatron.          \n",
       "3  When a prison ship crash unleashes hundreds of Decepticons on Earth, Bumblebee leads a new Autobot force to protect humankind.                        \n",
       "4  When nerdy high schooler Dani finally attracts the interest of her longtime crush, she lands in the cross hairs of his ex, a social media celebrity.  "
      ]
     },
     "execution_count": 3,
     "metadata": {},
     "output_type": "execute_result"
    }
   ],
   "source": [
    "df = pd.read_csv('./netflix_titles.csv')\n",
    "df.head()"
   ]
  },
  {
   "cell_type": "markdown",
   "metadata": {},
   "source": [
    "The columns of the dataset consists of:\n",
    "- show_id - Unique ID for every Movie / Tv Show\n",
    "- typeIdentifier - A Movie or TV Show\n",
    "- title - Title of the Movie / Tv Show\n",
    "- director - Director of the Movie\n",
    "- cast - Actors involved in the movie / show\n",
    "- country - Country where the movie / show was produced\n",
    "- date_added - Date it was added on Netflix\n",
    "- release_year - Actual Release year of the move / show\n",
    "- rating - TV Rating of the movie / show\n",
    "- duration - Total Duration - in minutes or number of seasons\n",
    "- listed_in - Genre\n",
    "- description - The summary description"
   ]
  },
  {
   "cell_type": "code",
   "execution_count": 4,
   "metadata": {},
   "outputs": [
    {
     "data": {
      "text/plain": [
       "(6234, 12)"
      ]
     },
     "execution_count": 4,
     "metadata": {},
     "output_type": "execute_result"
    }
   ],
   "source": [
    "df.shape"
   ]
  },
  {
   "cell_type": "markdown",
   "metadata": {},
   "source": [
    "The dataset provided has 6,234 rows and 12 columns."
   ]
  },
  {
   "cell_type": "code",
   "execution_count": 5,
   "metadata": {},
   "outputs": [
    {
     "data": {
      "text/plain": [
       "show_id         0   \n",
       "type            0   \n",
       "title           0   \n",
       "director        1969\n",
       "cast            570 \n",
       "country         476 \n",
       "date_added      11  \n",
       "release_year    0   \n",
       "rating          10  \n",
       "duration        0   \n",
       "listed_in       0   \n",
       "description     0   \n",
       "dtype: int64"
      ]
     },
     "execution_count": 5,
     "metadata": {},
     "output_type": "execute_result"
    }
   ],
   "source": [
    "df.isnull().sum()"
   ]
  },
  {
   "cell_type": "markdown",
   "metadata": {},
   "source": [
    "The dataset consists of null values in multiple columns - 1,969 in _director_ column, 570 in _cast_ column, 476 in _country_ column, 11 in _date_added_ column and 10 in _rating_ column. This could be due to the unavailability of the data on Flixable the third-party Netflix search engine."
   ]
  },
  {
   "cell_type": "code",
   "execution_count": 6,
   "metadata": {},
   "outputs": [
    {
     "data": {
      "text/plain": [
       "show_id         int64 \n",
       "type            object\n",
       "title           object\n",
       "director        object\n",
       "cast            object\n",
       "country         object\n",
       "date_added      object\n",
       "release_year    int64 \n",
       "rating          object\n",
       "duration        object\n",
       "listed_in       object\n",
       "description     object\n",
       "dtype: object"
      ]
     },
     "execution_count": 6,
     "metadata": {},
     "output_type": "execute_result"
    }
   ],
   "source": [
    "df.dtypes"
   ]
  },
  {
   "cell_type": "markdown",
   "metadata": {},
   "source": [
    "## Data Cleaning and Wrangling"
   ]
  },
  {
   "cell_type": "markdown",
   "metadata": {},
   "source": [
    "The focus of this dataset is build a content-based filtering model using bag of words and TF-IDF vectorizer with data from the following columns - _title, director, cast, listed_in_ and _description_. Hence, this would be our approach in cleaning the data."
   ]
  },
  {
   "cell_type": "code",
   "execution_count": 7,
   "metadata": {},
   "outputs": [
    {
     "data": {
      "text/html": [
       "<div>\n",
       "<style scoped>\n",
       "    .dataframe tbody tr th:only-of-type {\n",
       "        vertical-align: middle;\n",
       "    }\n",
       "\n",
       "    .dataframe tbody tr th {\n",
       "        vertical-align: top;\n",
       "    }\n",
       "\n",
       "    .dataframe thead th {\n",
       "        text-align: right;\n",
       "    }\n",
       "</style>\n",
       "<table border=\"1\" class=\"dataframe\">\n",
       "  <thead>\n",
       "    <tr style=\"text-align: right;\">\n",
       "      <th></th>\n",
       "      <th>title</th>\n",
       "      <th>director</th>\n",
       "      <th>cast</th>\n",
       "      <th>listed_in</th>\n",
       "      <th>description</th>\n",
       "    </tr>\n",
       "  </thead>\n",
       "  <tbody>\n",
       "    <tr>\n",
       "      <td>0</td>\n",
       "      <td>Norm of the North: King Sized Adventure</td>\n",
       "      <td>Richard Finn, Tim Maltby</td>\n",
       "      <td>Alan Marriott, Andrew Toth, Brian Dobson, Cole Howard, Jennifer Cameron, Jonathan Holmes, Lee Tockar, Lisa Durupt, Maya Kay, Michael Dobson</td>\n",
       "      <td>Children &amp; Family Movies, Comedies</td>\n",
       "      <td>Before planning an awesome wedding for his grandfather, a polar bear king must take back a stolen artifact from an evil archaeologist first.</td>\n",
       "    </tr>\n",
       "    <tr>\n",
       "      <td>1</td>\n",
       "      <td>Jandino: Whatever it Takes</td>\n",
       "      <td>NaN</td>\n",
       "      <td>Jandino Asporaat</td>\n",
       "      <td>Stand-Up Comedy</td>\n",
       "      <td>Jandino Asporaat riffs on the challenges of raising kids and serenades the audience with a rousing rendition of \"Sex on Fire\" in his comedy show.</td>\n",
       "    </tr>\n",
       "    <tr>\n",
       "      <td>2</td>\n",
       "      <td>Transformers Prime</td>\n",
       "      <td>NaN</td>\n",
       "      <td>Peter Cullen, Sumalee Montano, Frank Welker, Jeffrey Combs, Kevin Michael Richardson, Tania Gunadi, Josh Keaton, Steve Blum, Andy Pessoa, Ernie Hudson, Daran Norris, Will Friedle</td>\n",
       "      <td>Kids' TV</td>\n",
       "      <td>With the help of three human allies, the Autobots once again protect Earth from the onslaught of the Decepticons and their leader, Megatron.</td>\n",
       "    </tr>\n",
       "    <tr>\n",
       "      <td>3</td>\n",
       "      <td>Transformers: Robots in Disguise</td>\n",
       "      <td>NaN</td>\n",
       "      <td>Will Friedle, Darren Criss, Constance Zimmer, Khary Payton, Mitchell Whitfield, Stuart Allan, Ted McGinley, Peter Cullen</td>\n",
       "      <td>Kids' TV</td>\n",
       "      <td>When a prison ship crash unleashes hundreds of Decepticons on Earth, Bumblebee leads a new Autobot force to protect humankind.</td>\n",
       "    </tr>\n",
       "    <tr>\n",
       "      <td>4</td>\n",
       "      <td>#realityhigh</td>\n",
       "      <td>Fernando Lebrija</td>\n",
       "      <td>Nesta Cooper, Kate Walsh, John Michael Higgins, Keith Powers, Alicia Sanz, Jake Borelli, Kid Ink, Yousef Erakat, Rebekah Graf, Anne Winters, Peter Gilroy, Patrick Davis</td>\n",
       "      <td>Comedies</td>\n",
       "      <td>When nerdy high schooler Dani finally attracts the interest of her longtime crush, she lands in the cross hairs of his ex, a social media celebrity.</td>\n",
       "    </tr>\n",
       "  </tbody>\n",
       "</table>\n",
       "</div>"
      ],
      "text/plain": [
       "                                     title                  director  \\\n",
       "0  Norm of the North: King Sized Adventure  Richard Finn, Tim Maltby   \n",
       "1  Jandino: Whatever it Takes               NaN                        \n",
       "2  Transformers Prime                       NaN                        \n",
       "3  Transformers: Robots in Disguise         NaN                        \n",
       "4  #realityhigh                             Fernando Lebrija           \n",
       "\n",
       "                                                                                                                                                                                 cast  \\\n",
       "0  Alan Marriott, Andrew Toth, Brian Dobson, Cole Howard, Jennifer Cameron, Jonathan Holmes, Lee Tockar, Lisa Durupt, Maya Kay, Michael Dobson                                          \n",
       "1  Jandino Asporaat                                                                                                                                                                     \n",
       "2  Peter Cullen, Sumalee Montano, Frank Welker, Jeffrey Combs, Kevin Michael Richardson, Tania Gunadi, Josh Keaton, Steve Blum, Andy Pessoa, Ernie Hudson, Daran Norris, Will Friedle   \n",
       "3  Will Friedle, Darren Criss, Constance Zimmer, Khary Payton, Mitchell Whitfield, Stuart Allan, Ted McGinley, Peter Cullen                                                             \n",
       "4  Nesta Cooper, Kate Walsh, John Michael Higgins, Keith Powers, Alicia Sanz, Jake Borelli, Kid Ink, Yousef Erakat, Rebekah Graf, Anne Winters, Peter Gilroy, Patrick Davis             \n",
       "\n",
       "                            listed_in  \\\n",
       "0  Children & Family Movies, Comedies   \n",
       "1  Stand-Up Comedy                      \n",
       "2  Kids' TV                             \n",
       "3  Kids' TV                             \n",
       "4  Comedies                             \n",
       "\n",
       "                                                                                                                                            description  \n",
       "0  Before planning an awesome wedding for his grandfather, a polar bear king must take back a stolen artifact from an evil archaeologist first.          \n",
       "1  Jandino Asporaat riffs on the challenges of raising kids and serenades the audience with a rousing rendition of \"Sex on Fire\" in his comedy show.     \n",
       "2  With the help of three human allies, the Autobots once again protect Earth from the onslaught of the Decepticons and their leader, Megatron.          \n",
       "3  When a prison ship crash unleashes hundreds of Decepticons on Earth, Bumblebee leads a new Autobot force to protect humankind.                        \n",
       "4  When nerdy high schooler Dani finally attracts the interest of her longtime crush, she lands in the cross hairs of his ex, a social media celebrity.  "
      ]
     },
     "execution_count": 7,
     "metadata": {},
     "output_type": "execute_result"
    }
   ],
   "source": [
    "new_df = df[['title','director','cast','listed_in','description']]\n",
    "new_df.head()"
   ]
  },
  {
   "cell_type": "markdown",
   "metadata": {},
   "source": [
    "As there are no reasonable approaches in imputing the null values using inferences, we will drop the null values from the columns for this project."
   ]
  },
  {
   "cell_type": "code",
   "execution_count": 8,
   "metadata": {},
   "outputs": [
    {
     "name": "stderr",
     "output_type": "stream",
     "text": [
      "/Users/samuel/opt/anaconda3/lib/python3.7/site-packages/ipykernel_launcher.py:2: SettingWithCopyWarning: \n",
      "A value is trying to be set on a copy of a slice from a DataFrame\n",
      "\n",
      "See the caveats in the documentation: http://pandas.pydata.org/pandas-docs/stable/user_guide/indexing.html#returning-a-view-versus-a-copy\n",
      "  \n",
      "/Users/samuel/opt/anaconda3/lib/python3.7/site-packages/pandas/core/frame.py:4102: SettingWithCopyWarning: \n",
      "A value is trying to be set on a copy of a slice from a DataFrame\n",
      "\n",
      "See the caveats in the documentation: http://pandas.pydata.org/pandas-docs/stable/user_guide/indexing.html#returning-a-view-versus-a-copy\n",
      "  errors=errors,\n"
     ]
    }
   ],
   "source": [
    "# Remove NaN values and empty strings\n",
    "new_df.dropna(inplace=True)\n",
    "\n",
    "blanks = []\n",
    "\n",
    "col=['title','director','cast','listed_in','description']\n",
    "for i,col in new_df.iterrows():  \n",
    "    if type(col)==str:            \n",
    "        if col.isspace():        \n",
    "            blanks.append(i)     \n",
    "\n",
    "new_df.drop(blanks, inplace=True)"
   ]
  },
  {
   "cell_type": "code",
   "execution_count": 9,
   "metadata": {},
   "outputs": [
    {
     "data": {
      "text/plain": [
       "title          0\n",
       "director       0\n",
       "cast           0\n",
       "listed_in      0\n",
       "description    0\n",
       "dtype: int64"
      ]
     },
     "execution_count": 9,
     "metadata": {},
     "output_type": "execute_result"
    }
   ],
   "source": [
    "new_df.isnull().sum()"
   ]
  },
  {
   "cell_type": "markdown",
   "metadata": {},
   "source": [
    "No null values remained in the new dataframe after cleaning."
   ]
  },
  {
   "cell_type": "markdown",
   "metadata": {},
   "source": [
    "**Keywords Extraction Using Rake**\n",
    "\n",
    "RAKE short for _Rapid Automatic Keyword Extraction_ algorithm, is a domain independent keyword extraction algorithm which tries to determine key phrases in a body of text by analyzing the frequency of word appearance and its co-occurance with other words in the text.\n",
    "\n",
    "For this case, we used RAKE to split the text into a list of words and remove stopwords from that list. This returns us a list of what is known as _content words_ which is useful for building our model and analyzing the keywords within the plot description of the show/ movie."
   ]
  },
  {
   "cell_type": "code",
   "execution_count": 10,
   "metadata": {
    "scrolled": true
   },
   "outputs": [
    {
     "name": "stderr",
     "output_type": "stream",
     "text": [
      "/Users/samuel/opt/anaconda3/lib/python3.7/site-packages/ipykernel_launcher.py:1: SettingWithCopyWarning: \n",
      "A value is trying to be set on a copy of a slice from a DataFrame.\n",
      "Try using .loc[row_indexer,col_indexer] = value instead\n",
      "\n",
      "See the caveats in the documentation: http://pandas.pydata.org/pandas-docs/stable/user_guide/indexing.html#returning-a-view-versus-a-copy\n",
      "  \"\"\"Entry point for launching an IPython kernel.\n"
     ]
    }
   ],
   "source": [
    "new_df['key_words'] = \"\"\n",
    "\n",
    "for index, row in new_df.iterrows():\n",
    "    description = row['description']\n",
    "    \n",
    "    # instantiating Rake, by default it uses english stopwords from NLTK \n",
    "    # and discards all puntuation characters as well\n",
    "    r = Rake()\n",
    "\n",
    "    # extracting the words by passing the text\n",
    "    r.extract_keywords_from_text(description)\n",
    "\n",
    "    # getting the dictionary whith key words as keys and their scores as values\n",
    "    key_words_dict_scores = r.get_word_degrees()\n",
    "    \n",
    "    # assigning the key words to the new column for the corresponding movie\n",
    "    row['key_words'] = list(key_words_dict_scores.keys())\n",
    "\n",
    "# dropping the Plot column\n",
    "new_df.drop(columns = ['description'], inplace = True)"
   ]
  },
  {
   "cell_type": "code",
   "execution_count": 11,
   "metadata": {},
   "outputs": [
    {
     "name": "stderr",
     "output_type": "stream",
     "text": [
      "/Users/samuel/opt/anaconda3/lib/python3.7/site-packages/ipykernel_launcher.py:2: SettingWithCopyWarning: \n",
      "A value is trying to be set on a copy of a slice from a DataFrame.\n",
      "Try using .loc[row_indexer,col_indexer] = value instead\n",
      "\n",
      "See the caveats in the documentation: http://pandas.pydata.org/pandas-docs/stable/user_guide/indexing.html#returning-a-view-versus-a-copy\n",
      "  \n",
      "/Users/samuel/opt/anaconda3/lib/python3.7/site-packages/ipykernel_launcher.py:3: SettingWithCopyWarning: \n",
      "A value is trying to be set on a copy of a slice from a DataFrame.\n",
      "Try using .loc[row_indexer,col_indexer] = value instead\n",
      "\n",
      "See the caveats in the documentation: http://pandas.pydata.org/pandas-docs/stable/user_guide/indexing.html#returning-a-view-versus-a-copy\n",
      "  This is separate from the ipykernel package so we can avoid doing imports until\n",
      "/Users/samuel/opt/anaconda3/lib/python3.7/site-packages/ipykernel_launcher.py:6: SettingWithCopyWarning: \n",
      "A value is trying to be set on a copy of a slice from a DataFrame.\n",
      "Try using .loc[row_indexer,col_indexer] = value instead\n",
      "\n",
      "See the caveats in the documentation: http://pandas.pydata.org/pandas-docs/stable/user_guide/indexing.html#returning-a-view-versus-a-copy\n",
      "  \n"
     ]
    }
   ],
   "source": [
    "# discarding the commas between the actors' and directors' full names\n",
    "new_df['cast'] = new_df['cast'].map(lambda x: x.split(','))\n",
    "new_df['director'] = new_df['director'].map(lambda x: x.split(','))\n",
    "\n",
    "# converting the genres into a list of words\n",
    "new_df['listed_in'] = new_df['listed_in'].map(lambda x: x.lower().split(','))\n",
    "\n",
    "# merging together first and last name for each actor and director\n",
    "for index, row in new_df.iterrows():\n",
    "    row['cast'] = [x.lower().replace(' ','') for x in row['cast']]\n",
    "    row['director'] = [y.lower().replace(' ','') for y in row['director']]"
   ]
  },
  {
   "cell_type": "code",
   "execution_count": 12,
   "metadata": {},
   "outputs": [
    {
     "data": {
      "text/html": [
       "<div>\n",
       "<style scoped>\n",
       "    .dataframe tbody tr th:only-of-type {\n",
       "        vertical-align: middle;\n",
       "    }\n",
       "\n",
       "    .dataframe tbody tr th {\n",
       "        vertical-align: top;\n",
       "    }\n",
       "\n",
       "    .dataframe thead th {\n",
       "        text-align: right;\n",
       "    }\n",
       "</style>\n",
       "<table border=\"1\" class=\"dataframe\">\n",
       "  <thead>\n",
       "    <tr style=\"text-align: right;\">\n",
       "      <th></th>\n",
       "      <th>title</th>\n",
       "      <th>director</th>\n",
       "      <th>cast</th>\n",
       "      <th>listed_in</th>\n",
       "      <th>key_words</th>\n",
       "    </tr>\n",
       "  </thead>\n",
       "  <tbody>\n",
       "    <tr>\n",
       "      <td>0</td>\n",
       "      <td>Norm of the North: King Sized Adventure</td>\n",
       "      <td>[richardfinn, timmaltby]</td>\n",
       "      <td>[alanmarriott, andrewtoth, briandobson, colehoward, jennifercameron, jonathanholmes, leetockar, lisadurupt, mayakay, michaeldobson]</td>\n",
       "      <td>[children &amp; family movies,  comedies]</td>\n",
       "      <td>[grandfather, planning, polar, bear, king, must, take, back, stolen, artifact, awesome, wedding, evil, archaeologist, first]</td>\n",
       "    </tr>\n",
       "    <tr>\n",
       "      <td>4</td>\n",
       "      <td>#realityhigh</td>\n",
       "      <td>[fernandolebrija]</td>\n",
       "      <td>[nestacooper, katewalsh, johnmichaelhiggins, keithpowers, aliciasanz, jakeborelli, kidink, youseferakat, rebekahgraf, annewinters, petergilroy, patrickdavis]</td>\n",
       "      <td>[comedies]</td>\n",
       "      <td>[lands, social, media, celebrity, cross, hairs, interest, longtime, crush, ex, nerdy, high, schooler, dani, finally, attracts]</td>\n",
       "    </tr>\n",
       "    <tr>\n",
       "      <td>6</td>\n",
       "      <td>Automata</td>\n",
       "      <td>[gabeibáñez]</td>\n",
       "      <td>[antoniobanderas, dylanmcdermott, melaniegriffith, birgittehjortsørensen, robertforster, christacampbell, timmcinnerny, andynyman, davidryall]</td>\n",
       "      <td>[international movies,  sci-fi &amp; fantasy,  thrillers]</td>\n",
       "      <td>[tech, company, investigates, robot, killed, violating, protocol, global, conspiracy, insurance, adjuster, dystopian, future, discovers]</td>\n",
       "    </tr>\n",
       "    <tr>\n",
       "      <td>7</td>\n",
       "      <td>Fabrizio Copano: Solo pienso en mi</td>\n",
       "      <td>[rodrigotoro, franciscoschultz]</td>\n",
       "      <td>[fabriziocopano]</td>\n",
       "      <td>[stand-up comedy]</td>\n",
       "      <td>[family, whatsapp, groups, next, level, stand, fabrizio, copano, takes, audience, participation, set, reflecting, sperm, banks]</td>\n",
       "    </tr>\n",
       "    <tr>\n",
       "      <td>9</td>\n",
       "      <td>Good People</td>\n",
       "      <td>[henrikrubengenz]</td>\n",
       "      <td>[jamesfranco, katehudson, tomwilkinson, omarsy, samspruell, annafriel, thomasarnold, oliverdimsdale, dianahardcastle, michaeljibson, diarmaidmurtagh]</td>\n",
       "      <td>[action &amp; adventure,  thrillers]</td>\n",
       "      <td>[apartment, recently, murdered, find, believe, struggling, couple, money, stash, luck, neighbor]</td>\n",
       "    </tr>\n",
       "  </tbody>\n",
       "</table>\n",
       "</div>"
      ],
      "text/plain": [
       "                                     title                         director  \\\n",
       "0  Norm of the North: King Sized Adventure  [richardfinn, timmaltby]          \n",
       "4  #realityhigh                             [fernandolebrija]                 \n",
       "6  Automata                                 [gabeibáñez]                      \n",
       "7  Fabrizio Copano: Solo pienso en mi       [rodrigotoro, franciscoschultz]   \n",
       "9  Good People                              [henrikrubengenz]                 \n",
       "\n",
       "                                                                                                                                                            cast  \\\n",
       "0  [alanmarriott, andrewtoth, briandobson, colehoward, jennifercameron, jonathanholmes, leetockar, lisadurupt, mayakay, michaeldobson]                             \n",
       "4  [nestacooper, katewalsh, johnmichaelhiggins, keithpowers, aliciasanz, jakeborelli, kidink, youseferakat, rebekahgraf, annewinters, petergilroy, patrickdavis]   \n",
       "6  [antoniobanderas, dylanmcdermott, melaniegriffith, birgittehjortsørensen, robertforster, christacampbell, timmcinnerny, andynyman, davidryall]                  \n",
       "7  [fabriziocopano]                                                                                                                                                \n",
       "9  [jamesfranco, katehudson, tomwilkinson, omarsy, samspruell, annafriel, thomasarnold, oliverdimsdale, dianahardcastle, michaeljibson, diarmaidmurtagh]           \n",
       "\n",
       "                                               listed_in  \\\n",
       "0  [children & family movies,  comedies]                   \n",
       "4  [comedies]                                              \n",
       "6  [international movies,  sci-fi & fantasy,  thrillers]   \n",
       "7  [stand-up comedy]                                       \n",
       "9  [action & adventure,  thrillers]                        \n",
       "\n",
       "                                                                                                                                  key_words  \n",
       "0  [grandfather, planning, polar, bear, king, must, take, back, stolen, artifact, awesome, wedding, evil, archaeologist, first]              \n",
       "4  [lands, social, media, celebrity, cross, hairs, interest, longtime, crush, ex, nerdy, high, schooler, dani, finally, attracts]            \n",
       "6  [tech, company, investigates, robot, killed, violating, protocol, global, conspiracy, insurance, adjuster, dystopian, future, discovers]  \n",
       "7  [family, whatsapp, groups, next, level, stand, fabrizio, copano, takes, audience, participation, set, reflecting, sperm, banks]           \n",
       "9  [apartment, recently, murdered, find, believe, struggling, couple, money, stash, luck, neighbor]                                          "
      ]
     },
     "execution_count": 12,
     "metadata": {},
     "output_type": "execute_result"
    }
   ],
   "source": [
    "new_df.head()"
   ]
  },
  {
   "cell_type": "code",
   "execution_count": 13,
   "metadata": {},
   "outputs": [
    {
     "data": {
      "text/html": [
       "<div>\n",
       "<style scoped>\n",
       "    .dataframe tbody tr th:only-of-type {\n",
       "        vertical-align: middle;\n",
       "    }\n",
       "\n",
       "    .dataframe tbody tr th {\n",
       "        vertical-align: top;\n",
       "    }\n",
       "\n",
       "    .dataframe thead th {\n",
       "        text-align: right;\n",
       "    }\n",
       "</style>\n",
       "<table border=\"1\" class=\"dataframe\">\n",
       "  <thead>\n",
       "    <tr style=\"text-align: right;\">\n",
       "      <th></th>\n",
       "      <th>director</th>\n",
       "      <th>cast</th>\n",
       "      <th>listed_in</th>\n",
       "      <th>key_words</th>\n",
       "    </tr>\n",
       "    <tr>\n",
       "      <th>title</th>\n",
       "      <th></th>\n",
       "      <th></th>\n",
       "      <th></th>\n",
       "      <th></th>\n",
       "    </tr>\n",
       "  </thead>\n",
       "  <tbody>\n",
       "    <tr>\n",
       "      <td>Norm of the North: King Sized Adventure</td>\n",
       "      <td>[richardfinn, timmaltby]</td>\n",
       "      <td>[alanmarriott, andrewtoth, briandobson, colehoward, jennifercameron, jonathanholmes, leetockar, lisadurupt, mayakay, michaeldobson]</td>\n",
       "      <td>[children &amp; family movies,  comedies]</td>\n",
       "      <td>[grandfather, planning, polar, bear, king, must, take, back, stolen, artifact, awesome, wedding, evil, archaeologist, first]</td>\n",
       "    </tr>\n",
       "    <tr>\n",
       "      <td>#realityhigh</td>\n",
       "      <td>[fernandolebrija]</td>\n",
       "      <td>[nestacooper, katewalsh, johnmichaelhiggins, keithpowers, aliciasanz, jakeborelli, kidink, youseferakat, rebekahgraf, annewinters, petergilroy, patrickdavis]</td>\n",
       "      <td>[comedies]</td>\n",
       "      <td>[lands, social, media, celebrity, cross, hairs, interest, longtime, crush, ex, nerdy, high, schooler, dani, finally, attracts]</td>\n",
       "    </tr>\n",
       "    <tr>\n",
       "      <td>Automata</td>\n",
       "      <td>[gabeibáñez]</td>\n",
       "      <td>[antoniobanderas, dylanmcdermott, melaniegriffith, birgittehjortsørensen, robertforster, christacampbell, timmcinnerny, andynyman, davidryall]</td>\n",
       "      <td>[international movies,  sci-fi &amp; fantasy,  thrillers]</td>\n",
       "      <td>[tech, company, investigates, robot, killed, violating, protocol, global, conspiracy, insurance, adjuster, dystopian, future, discovers]</td>\n",
       "    </tr>\n",
       "    <tr>\n",
       "      <td>Fabrizio Copano: Solo pienso en mi</td>\n",
       "      <td>[rodrigotoro, franciscoschultz]</td>\n",
       "      <td>[fabriziocopano]</td>\n",
       "      <td>[stand-up comedy]</td>\n",
       "      <td>[family, whatsapp, groups, next, level, stand, fabrizio, copano, takes, audience, participation, set, reflecting, sperm, banks]</td>\n",
       "    </tr>\n",
       "    <tr>\n",
       "      <td>Good People</td>\n",
       "      <td>[henrikrubengenz]</td>\n",
       "      <td>[jamesfranco, katehudson, tomwilkinson, omarsy, samspruell, annafriel, thomasarnold, oliverdimsdale, dianahardcastle, michaeljibson, diarmaidmurtagh]</td>\n",
       "      <td>[action &amp; adventure,  thrillers]</td>\n",
       "      <td>[apartment, recently, murdered, find, believe, struggling, couple, money, stash, luck, neighbor]</td>\n",
       "    </tr>\n",
       "  </tbody>\n",
       "</table>\n",
       "</div>"
      ],
      "text/plain": [
       "                                                                director  \\\n",
       "title                                                                      \n",
       "Norm of the North: King Sized Adventure  [richardfinn, timmaltby]          \n",
       "#realityhigh                             [fernandolebrija]                 \n",
       "Automata                                 [gabeibáñez]                      \n",
       "Fabrizio Copano: Solo pienso en mi       [rodrigotoro, franciscoschultz]   \n",
       "Good People                              [henrikrubengenz]                 \n",
       "\n",
       "                                                                                                                                                                                                  cast  \\\n",
       "title                                                                                                                                                                                                    \n",
       "Norm of the North: King Sized Adventure  [alanmarriott, andrewtoth, briandobson, colehoward, jennifercameron, jonathanholmes, leetockar, lisadurupt, mayakay, michaeldobson]                             \n",
       "#realityhigh                             [nestacooper, katewalsh, johnmichaelhiggins, keithpowers, aliciasanz, jakeborelli, kidink, youseferakat, rebekahgraf, annewinters, petergilroy, patrickdavis]   \n",
       "Automata                                 [antoniobanderas, dylanmcdermott, melaniegriffith, birgittehjortsørensen, robertforster, christacampbell, timmcinnerny, andynyman, davidryall]                  \n",
       "Fabrizio Copano: Solo pienso en mi       [fabriziocopano]                                                                                                                                                \n",
       "Good People                              [jamesfranco, katehudson, tomwilkinson, omarsy, samspruell, annafriel, thomasarnold, oliverdimsdale, dianahardcastle, michaeljibson, diarmaidmurtagh]           \n",
       "\n",
       "                                                                                     listed_in  \\\n",
       "title                                                                                            \n",
       "Norm of the North: King Sized Adventure  [children & family movies,  comedies]                   \n",
       "#realityhigh                             [comedies]                                              \n",
       "Automata                                 [international movies,  sci-fi & fantasy,  thrillers]   \n",
       "Fabrizio Copano: Solo pienso en mi       [stand-up comedy]                                       \n",
       "Good People                              [action & adventure,  thrillers]                        \n",
       "\n",
       "                                                                                                                                                                        key_words  \n",
       "title                                                                                                                                                                              \n",
       "Norm of the North: King Sized Adventure  [grandfather, planning, polar, bear, king, must, take, back, stolen, artifact, awesome, wedding, evil, archaeologist, first]              \n",
       "#realityhigh                             [lands, social, media, celebrity, cross, hairs, interest, longtime, crush, ex, nerdy, high, schooler, dani, finally, attracts]            \n",
       "Automata                                 [tech, company, investigates, robot, killed, violating, protocol, global, conspiracy, insurance, adjuster, dystopian, future, discovers]  \n",
       "Fabrizio Copano: Solo pienso en mi       [family, whatsapp, groups, next, level, stand, fabrizio, copano, takes, audience, participation, set, reflecting, sperm, banks]           \n",
       "Good People                              [apartment, recently, murdered, find, believe, struggling, couple, money, stash, luck, neighbor]                                          "
      ]
     },
     "execution_count": 13,
     "metadata": {},
     "output_type": "execute_result"
    }
   ],
   "source": [
    "new_df.set_index('title', inplace = True)\n",
    "new_df.head()"
   ]
  },
  {
   "cell_type": "code",
   "execution_count": 14,
   "metadata": {
    "scrolled": true
   },
   "outputs": [],
   "source": [
    "# Save cleaned dataset to pickled file\n",
    "new_df.to_pickle('new_df.pkl')"
   ]
  }
 ],
 "metadata": {
  "kernelspec": {
   "display_name": "Python 3",
   "language": "python",
   "name": "python3"
  },
  "language_info": {
   "codemirror_mode": {
    "name": "ipython",
    "version": 3
   },
   "file_extension": ".py",
   "mimetype": "text/x-python",
   "name": "python",
   "nbconvert_exporter": "python",
   "pygments_lexer": "ipython3",
   "version": "3.7.4"
  }
 },
 "nbformat": 4,
 "nbformat_minor": 2
}
