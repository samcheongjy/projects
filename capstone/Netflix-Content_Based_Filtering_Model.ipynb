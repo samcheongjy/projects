{
 "cells": [
  {
   "cell_type": "markdown",
   "metadata": {},
   "source": [
    "<a id='section_id3'></a>\n",
    "# Content Based Filtering Model\n",
    "\n",
    "### Recommender System:\n",
    "A Recommender System is a simple algorithm, whose aim is to provide the most relevant information to a user by discovering patterns in a dataset.\n",
    "\n",
    "### Content Based Recommender Systems:\n",
    "It is born from the idea of using content of each item for recommending purposes. The content of an item is a very abstract thing and gives us a lot of options. We could use a lot of different variables. For example, for a movie we could consider the director, cast, genre, the plot of the movie itself... the list goes on.\n",
    "\n",
    "This type of recommender uses the description of the item to recommend next most similar item. It uses the product features or keywords used in description to find the similarity between the items.\n",
    "When we know which content we will consider(Director) , we need to transform this data into a Vector Space Model, an algebraic representation of text documents.\n",
    "\n",
    "Generally, we do this with a Bag of Words model, that represents documents ignoring the order of the words. In this model, each document looks like a bag containing some words. Therefore this method allows word modelling based on dictionaries, where each bag contains a few words from the dictionary.\n",
    "\n",
    "A specific implementation of a Bag of Words is the TF-IDF representation, where TF is for Term Frequency and IDF is Inverse Document Frequency. This model combines how important is the word in the document (local importance) with how important is the word in the corpus(global importance).\n",
    "\n",
    "TF-IDF is used in Information Retrieval for feature extraction purposes and it is sub area of Natural Language Processing(NLP).\n",
    "\n",
    "![title](images/tf.png)\n",
    "![title](images/idf.png)\n",
    "\n",
    "TF-IDF is a measure used to evaluate how important a word is to a document in a document corpus. The importance of the word increases proportionally to the number of times a word appears in the document but is offset by the frequency of the word in the corpus."
   ]
  },
  {
   "cell_type": "code",
   "execution_count": 63,
   "metadata": {},
   "outputs": [],
   "source": [
    "import pandas as pd\n",
    "import numpy as np\n",
    "import time\n",
    "\n",
    "from sklearn.metrics.pairwise import cosine_similarity\n",
    "from sklearn.feature_extraction.text import TfidfVectorizer\n",
    "from sklearn.metrics.pairwise import euclidean_distances\n",
    "from scipy.stats import pearsonr"
   ]
  },
  {
   "cell_type": "code",
   "execution_count": 2,
   "metadata": {},
   "outputs": [],
   "source": [
    "pd.set_option('display.max_colwidth', -1)\n",
    "pd.set_option('display.max_rows', None)\n",
    "pd.set_option('display.max_columns', None)\n",
    "pd.set_option('display.width', None)"
   ]
  },
  {
   "cell_type": "markdown",
   "metadata": {},
   "source": [
    "## Load Pickled File"
   ]
  },
  {
   "cell_type": "code",
   "execution_count": 6,
   "metadata": {},
   "outputs": [
    {
     "data": {
      "text/html": [
       "<div>\n",
       "<style scoped>\n",
       "    .dataframe tbody tr th:only-of-type {\n",
       "        vertical-align: middle;\n",
       "    }\n",
       "\n",
       "    .dataframe tbody tr th {\n",
       "        vertical-align: top;\n",
       "    }\n",
       "\n",
       "    .dataframe thead th {\n",
       "        text-align: right;\n",
       "    }\n",
       "</style>\n",
       "<table border=\"1\" class=\"dataframe\">\n",
       "  <thead>\n",
       "    <tr style=\"text-align: right;\">\n",
       "      <th></th>\n",
       "      <th>director</th>\n",
       "      <th>cast</th>\n",
       "      <th>listed_in</th>\n",
       "      <th>key_words</th>\n",
       "    </tr>\n",
       "    <tr>\n",
       "      <th>title</th>\n",
       "      <th></th>\n",
       "      <th></th>\n",
       "      <th></th>\n",
       "      <th></th>\n",
       "    </tr>\n",
       "  </thead>\n",
       "  <tbody>\n",
       "    <tr>\n",
       "      <td>Norm of the North: King Sized Adventure</td>\n",
       "      <td>[richardfinn, timmaltby]</td>\n",
       "      <td>[alanmarriott, andrewtoth, briandobson, colehoward, jennifercameron, jonathanholmes, leetockar, lisadurupt, mayakay, michaeldobson]</td>\n",
       "      <td>[children &amp; family movies,  comedies]</td>\n",
       "      <td>[planning, evil, archaeologist, first, awesome, wedding, polar, bear, king, must, take, back, stolen, artifact, grandfather]</td>\n",
       "    </tr>\n",
       "    <tr>\n",
       "      <td>#realityhigh</td>\n",
       "      <td>[fernandolebrija]</td>\n",
       "      <td>[nestacooper, katewalsh, johnmichaelhiggins, keithpowers, aliciasanz, jakeborelli, kidink, youseferakat, rebekahgraf, annewinters, petergilroy, patrickdavis]</td>\n",
       "      <td>[comedies]</td>\n",
       "      <td>[cross, hairs, interest, longtime, crush, ex, nerdy, high, schooler, dani, finally, attracts, lands, social, media, celebrity]</td>\n",
       "    </tr>\n",
       "    <tr>\n",
       "      <td>Automata</td>\n",
       "      <td>[gabeibáñez]</td>\n",
       "      <td>[antoniobanderas, dylanmcdermott, melaniegriffith, birgittehjortsørensen, robertforster, christacampbell, timmcinnerny, andynyman, davidryall]</td>\n",
       "      <td>[international movies,  sci-fi &amp; fantasy,  thrillers]</td>\n",
       "      <td>[dystopian, future, discovers, global, conspiracy, violating, protocol, tech, company, investigates, insurance, adjuster, robot, killed]</td>\n",
       "    </tr>\n",
       "    <tr>\n",
       "      <td>Fabrizio Copano: Solo pienso en mi</td>\n",
       "      <td>[rodrigotoro, franciscoschultz]</td>\n",
       "      <td>[fabriziocopano]</td>\n",
       "      <td>[stand-up comedy]</td>\n",
       "      <td>[stand, sperm, banks, set, family, whatsapp, groups, fabrizio, copano, takes, audience, participation, reflecting, next, level]</td>\n",
       "    </tr>\n",
       "    <tr>\n",
       "      <td>Good People</td>\n",
       "      <td>[henrikrubengenz]</td>\n",
       "      <td>[jamesfranco, katehudson, tomwilkinson, omarsy, samspruell, annafriel, thomasarnold, oliverdimsdale, dianahardcastle, michaeljibson, diarmaidmurtagh]</td>\n",
       "      <td>[action &amp; adventure,  thrillers]</td>\n",
       "      <td>[find, neighbor, apartment, luck, recently, murdered, struggling, couple, believe, stash, money]</td>\n",
       "    </tr>\n",
       "  </tbody>\n",
       "</table>\n",
       "</div>"
      ],
      "text/plain": [
       "                                                                director  \\\n",
       "title                                                                      \n",
       "Norm of the North: King Sized Adventure  [richardfinn, timmaltby]          \n",
       "#realityhigh                             [fernandolebrija]                 \n",
       "Automata                                 [gabeibáñez]                      \n",
       "Fabrizio Copano: Solo pienso en mi       [rodrigotoro, franciscoschultz]   \n",
       "Good People                              [henrikrubengenz]                 \n",
       "\n",
       "                                                                                                                                                                                                  cast  \\\n",
       "title                                                                                                                                                                                                    \n",
       "Norm of the North: King Sized Adventure  [alanmarriott, andrewtoth, briandobson, colehoward, jennifercameron, jonathanholmes, leetockar, lisadurupt, mayakay, michaeldobson]                             \n",
       "#realityhigh                             [nestacooper, katewalsh, johnmichaelhiggins, keithpowers, aliciasanz, jakeborelli, kidink, youseferakat, rebekahgraf, annewinters, petergilroy, patrickdavis]   \n",
       "Automata                                 [antoniobanderas, dylanmcdermott, melaniegriffith, birgittehjortsørensen, robertforster, christacampbell, timmcinnerny, andynyman, davidryall]                  \n",
       "Fabrizio Copano: Solo pienso en mi       [fabriziocopano]                                                                                                                                                \n",
       "Good People                              [jamesfranco, katehudson, tomwilkinson, omarsy, samspruell, annafriel, thomasarnold, oliverdimsdale, dianahardcastle, michaeljibson, diarmaidmurtagh]           \n",
       "\n",
       "                                                                                     listed_in  \\\n",
       "title                                                                                            \n",
       "Norm of the North: King Sized Adventure  [children & family movies,  comedies]                   \n",
       "#realityhigh                             [comedies]                                              \n",
       "Automata                                 [international movies,  sci-fi & fantasy,  thrillers]   \n",
       "Fabrizio Copano: Solo pienso en mi       [stand-up comedy]                                       \n",
       "Good People                              [action & adventure,  thrillers]                        \n",
       "\n",
       "                                                                                                                                                                        key_words  \n",
       "title                                                                                                                                                                              \n",
       "Norm of the North: King Sized Adventure  [planning, evil, archaeologist, first, awesome, wedding, polar, bear, king, must, take, back, stolen, artifact, grandfather]              \n",
       "#realityhigh                             [cross, hairs, interest, longtime, crush, ex, nerdy, high, schooler, dani, finally, attracts, lands, social, media, celebrity]            \n",
       "Automata                                 [dystopian, future, discovers, global, conspiracy, violating, protocol, tech, company, investigates, insurance, adjuster, robot, killed]  \n",
       "Fabrizio Copano: Solo pienso en mi       [stand, sperm, banks, set, family, whatsapp, groups, fabrizio, copano, takes, audience, participation, reflecting, next, level]           \n",
       "Good People                              [find, neighbor, apartment, luck, recently, murdered, struggling, couple, believe, stash, money]                                          "
      ]
     },
     "execution_count": 6,
     "metadata": {},
     "output_type": "execute_result"
    }
   ],
   "source": [
    "new_df = pd.read_pickle('new_df.pkl')\n",
    "new_df.head()"
   ]
  },
  {
   "cell_type": "markdown",
   "metadata": {},
   "source": [
    "## Bag of Words"
   ]
  },
  {
   "cell_type": "markdown",
   "metadata": {},
   "source": [
    "Building a Netflix Movie Recommender System based on Bag of Words model and Cosine Similairity Matrix"
   ]
  },
  {
   "cell_type": "code",
   "execution_count": 7,
   "metadata": {},
   "outputs": [],
   "source": [
    "new_df['bag_of_words'] = ''\n",
    "columns = new_df.columns\n",
    "for index, row in new_df.iterrows():\n",
    "    words = ''\n",
    "    for col in columns:\n",
    "        words = words + ' '.join(row[col])+ ' '\n",
    "    row['bag_of_words'] = words\n",
    "    \n",
    "new_df.drop(columns = [col for col in new_df.columns if col!= 'bag_of_words'], inplace = True)"
   ]
  },
  {
   "cell_type": "code",
   "execution_count": 8,
   "metadata": {},
   "outputs": [
    {
     "data": {
      "text/html": [
       "<div>\n",
       "<style scoped>\n",
       "    .dataframe tbody tr th:only-of-type {\n",
       "        vertical-align: middle;\n",
       "    }\n",
       "\n",
       "    .dataframe tbody tr th {\n",
       "        vertical-align: top;\n",
       "    }\n",
       "\n",
       "    .dataframe thead th {\n",
       "        text-align: right;\n",
       "    }\n",
       "</style>\n",
       "<table border=\"1\" class=\"dataframe\">\n",
       "  <thead>\n",
       "    <tr style=\"text-align: right;\">\n",
       "      <th></th>\n",
       "      <th>bag_of_words</th>\n",
       "    </tr>\n",
       "    <tr>\n",
       "      <th>title</th>\n",
       "      <th></th>\n",
       "    </tr>\n",
       "  </thead>\n",
       "  <tbody>\n",
       "    <tr>\n",
       "      <td>Norm of the North: King Sized Adventure</td>\n",
       "      <td>richardfinn timmaltby alanmarriott andrewtoth briandobson colehoward jennifercameron jonathanholmes leetockar lisadurupt mayakay michaeldobson children &amp; family movies  comedies planning evil archaeologist first awesome wedding polar bear king must take back stolen artifact grandfather</td>\n",
       "    </tr>\n",
       "    <tr>\n",
       "      <td>#realityhigh</td>\n",
       "      <td>fernandolebrija nestacooper katewalsh johnmichaelhiggins keithpowers aliciasanz jakeborelli kidink youseferakat rebekahgraf annewinters petergilroy patrickdavis comedies cross hairs interest longtime crush ex nerdy high schooler dani finally attracts lands social media celebrity</td>\n",
       "    </tr>\n",
       "    <tr>\n",
       "      <td>Automata</td>\n",
       "      <td>gabeibáñez antoniobanderas dylanmcdermott melaniegriffith birgittehjortsørensen robertforster christacampbell timmcinnerny andynyman davidryall international movies  sci-fi &amp; fantasy  thrillers dystopian future discovers global conspiracy violating protocol tech company investigates insurance adjuster robot killed</td>\n",
       "    </tr>\n",
       "    <tr>\n",
       "      <td>Fabrizio Copano: Solo pienso en mi</td>\n",
       "      <td>rodrigotoro franciscoschultz fabriziocopano stand-up comedy stand sperm banks set family whatsapp groups fabrizio copano takes audience participation reflecting next level</td>\n",
       "    </tr>\n",
       "    <tr>\n",
       "      <td>Good People</td>\n",
       "      <td>henrikrubengenz jamesfranco katehudson tomwilkinson omarsy samspruell annafriel thomasarnold oliverdimsdale dianahardcastle michaeljibson diarmaidmurtagh action &amp; adventure  thrillers find neighbor apartment luck recently murdered struggling couple believe stash money</td>\n",
       "    </tr>\n",
       "  </tbody>\n",
       "</table>\n",
       "</div>"
      ],
      "text/plain": [
       "                                                                                                                                                                                                                                                                                                                                                          bag_of_words\n",
       "title                                                                                                                                                                                                                                                                                                                                                                 \n",
       "Norm of the North: King Sized Adventure  richardfinn timmaltby alanmarriott andrewtoth briandobson colehoward jennifercameron jonathanholmes leetockar lisadurupt mayakay michaeldobson children & family movies  comedies planning evil archaeologist first awesome wedding polar bear king must take back stolen artifact grandfather                               \n",
       "#realityhigh                             fernandolebrija nestacooper katewalsh johnmichaelhiggins keithpowers aliciasanz jakeborelli kidink youseferakat rebekahgraf annewinters petergilroy patrickdavis comedies cross hairs interest longtime crush ex nerdy high schooler dani finally attracts lands social media celebrity                                      \n",
       "Automata                                 gabeibáñez antoniobanderas dylanmcdermott melaniegriffith birgittehjortsørensen robertforster christacampbell timmcinnerny andynyman davidryall international movies  sci-fi & fantasy  thrillers dystopian future discovers global conspiracy violating protocol tech company investigates insurance adjuster robot killed  \n",
       "Fabrizio Copano: Solo pienso en mi       rodrigotoro franciscoschultz fabriziocopano stand-up comedy stand sperm banks set family whatsapp groups fabrizio copano takes audience participation reflecting next level                                                                                                                                                  \n",
       "Good People                              henrikrubengenz jamesfranco katehudson tomwilkinson omarsy samspruell annafriel thomasarnold oliverdimsdale dianahardcastle michaeljibson diarmaidmurtagh action & adventure  thrillers find neighbor apartment luck recently murdered struggling couple believe stash money                                                 "
      ]
     },
     "execution_count": 8,
     "metadata": {},
     "output_type": "execute_result"
    }
   ],
   "source": [
    "new_df.head()"
   ]
  },
  {
   "cell_type": "code",
   "execution_count": 9,
   "metadata": {},
   "outputs": [],
   "source": [
    "# instantiating and generating the count matrix\n",
    "count = TfidfVectorizer()\n",
    "count_matrix = count.fit_transform(new_df['bag_of_words'])"
   ]
  },
  {
   "cell_type": "code",
   "execution_count": 24,
   "metadata": {},
   "outputs": [
    {
     "data": {
      "text/plain": [
       "<3909x35149 sparse matrix of type '<class 'numpy.float64'>'\n",
       "\twith 106124 stored elements in Compressed Sparse Row format>"
      ]
     },
     "execution_count": 24,
     "metadata": {},
     "output_type": "execute_result"
    }
   ],
   "source": [
    "count_matrix"
   ]
  },
  {
   "cell_type": "code",
   "execution_count": 11,
   "metadata": {},
   "outputs": [
    {
     "data": {
      "text/plain": [
       "0    Norm of the North: King Sized Adventure\n",
       "1    #realityhigh                           \n",
       "2    Automata                               \n",
       "3    Fabrizio Copano: Solo pienso en mi     \n",
       "4    Good People                            \n",
       "Name: title, dtype: object"
      ]
     },
     "execution_count": 11,
     "metadata": {},
     "output_type": "execute_result"
    }
   ],
   "source": [
    "# creating a Series for the movie titles so they are associated to an ordered numerical\n",
    "# list I will use later to match the indexes\n",
    "indices = pd.Series(new_df.index)\n",
    "indices[:5]"
   ]
  },
  {
   "cell_type": "markdown",
   "metadata": {},
   "source": [
    "We are using dictionary to hold our dataset, what we are going to do is we will iterate over all of values in the dictionary and check if the value is present in the token.\n",
    "\n",
    "Let's convert the query and documents to vectors. We are going to use total_vocab variable which has all the list of unique tokens to generate a index for each token and we will use numpy of shape(docs, total_vocab) to store the document vectors."
   ]
  },
  {
   "cell_type": "code",
   "execution_count": 12,
   "metadata": {},
   "outputs": [],
   "source": [
    "inddict = indices.to_dict()"
   ]
  },
  {
   "cell_type": "code",
   "execution_count": 13,
   "metadata": {},
   "outputs": [],
   "source": [
    "inddict = dict((v,k) for k,v in inddict.items())"
   ]
  },
  {
   "cell_type": "markdown",
   "metadata": {},
   "source": [
    "## Cosine Similarity"
   ]
  },
  {
   "cell_type": "markdown",
   "metadata": {},
   "source": [
    "Cosine similarity is a metric used to measure how similar the documents are irrespective of their size. Mathematically, it measures the cosine of the angle between two vectors projected in a multi-dimensional space.\n",
    "![title](images/cosinesimilarity)"
   ]
  },
  {
   "cell_type": "code",
   "execution_count": 14,
   "metadata": {},
   "outputs": [
    {
     "data": {
      "text/plain": [
       "array([[1.        , 0.00331223, 0.00124324, ..., 0.        , 0.        ,\n",
       "        0.00335971],\n",
       "       [0.00331223, 1.        , 0.        , ..., 0.        , 0.01040268,\n",
       "        0.00315705],\n",
       "       [0.00124324, 0.        , 1.        , ..., 0.00222796, 0.00172473,\n",
       "        0.00208643],\n",
       "       ...,\n",
       "       [0.        , 0.        , 0.00222796, ..., 1.        , 0.13772212,\n",
       "        0.17456276],\n",
       "       [0.        , 0.01040268, 0.00172473, ..., 0.13772212, 1.        ,\n",
       "        0.12897354],\n",
       "       [0.00335971, 0.00315705, 0.00208643, ..., 0.17456276, 0.12897354,\n",
       "        1.        ]])"
      ]
     },
     "execution_count": 14,
     "metadata": {},
     "output_type": "execute_result"
    }
   ],
   "source": [
    "# generating the cosine similarity matrix\n",
    "cosine_sim = cosine_similarity(count_matrix, count_matrix)\n",
    "cosine_sim"
   ]
  },
  {
   "cell_type": "code",
   "execution_count": 15,
   "metadata": {},
   "outputs": [],
   "source": [
    "# Function to get the most similar movies\n",
    "def recommend_cosine(Title):\n",
    "    id = inddict[Title]\n",
    "    #Get the pairwise similarity scores of all movies compared to that movies\n",
    "    #sorting them ang getting top 10\n",
    "    similarity_scores = list(enumerate(cosine_sim[id]))\n",
    "    similarity_scores = sorted(similarity_scores, key =lambda x : x[1], reverse = True)\n",
    "    similarity_scores = similarity_scores[1:11]\n",
    "    \n",
    "    # Get the movies index\n",
    "    movies_index = [i[0] for i in similarity_scores]\n",
    "    \n",
    "    #Return the top 10 most similar movies using iloc\n",
    "    return list(new_df.iloc[movies_index].index)"
   ]
  },
  {
   "cell_type": "code",
   "execution_count": 68,
   "metadata": {},
   "outputs": [
    {
     "data": {
      "text/plain": [
       "['Rocky III',\n",
       " 'Rocky II',\n",
       " 'Rocky IV',\n",
       " 'Rocky V',\n",
       " 'The Bleeder',\n",
       " 'Tunisian Victory',\n",
       " 'The Blue Planet: A Natural History of the Oceans',\n",
       " 'Ghost Rider',\n",
       " 'Wheelman',\n",
       " 'Spy Kids 3: Game Over']"
      ]
     },
     "execution_count": 68,
     "metadata": {},
     "output_type": "execute_result"
    }
   ],
   "source": [
    "recommend_cosine('Rocky')"
   ]
  },
  {
   "cell_type": "markdown",
   "metadata": {},
   "source": [
    "## Euclidean Distance"
   ]
  },
  {
   "cell_type": "markdown",
   "metadata": {},
   "source": [
    "Similar items will lie in close proximity to each other if plotted in n-dimensional space. So, we can calculate the distance between items and based on that distance, recommend items to the user.\n",
    "![title](images/euclideandist)"
   ]
  },
  {
   "cell_type": "code",
   "execution_count": 17,
   "metadata": {},
   "outputs": [],
   "source": [
    "eucli_distance = euclidean_distances(count_matrix)"
   ]
  },
  {
   "cell_type": "code",
   "execution_count": 18,
   "metadata": {},
   "outputs": [],
   "source": [
    "def recommend_euclidean_distance(Title):\n",
    "    ind = inddict[Title]\n",
    "    distance = list(enumerate(eucli_distance[ind]))\n",
    "    distance = sorted(distance,key = lambda x : x[1])\n",
    "    distance = distance[1:11]\n",
    "    \n",
    "    # Get the movies index\n",
    "    movies_index = [i[0] for i in distance]\n",
    "    \n",
    "    #Return the top 10 most similar movies using iloc\n",
    "    return list(new_df.iloc[movies_index].index)"
   ]
  },
  {
   "cell_type": "code",
   "execution_count": 19,
   "metadata": {},
   "outputs": [
    {
     "data": {
      "text/plain": [
       "['Rocky III',\n",
       " 'Rocky II',\n",
       " 'Rocky IV',\n",
       " 'Rocky V',\n",
       " 'The Bleeder',\n",
       " 'Tunisian Victory',\n",
       " 'The Blue Planet: A Natural History of the Oceans',\n",
       " 'Ghost Rider',\n",
       " 'Wheelman',\n",
       " 'Spy Kids 3: Game Over']"
      ]
     },
     "execution_count": 19,
     "metadata": {},
     "output_type": "execute_result"
    }
   ],
   "source": [
    "recommend_euclidean_distance('Rocky')"
   ]
  },
  {
   "cell_type": "markdown",
   "metadata": {},
   "source": [
    "## Pearson's Correlation"
   ]
  },
  {
   "cell_type": "markdown",
   "metadata": {},
   "source": [
    "It tells us how much two items are correlated. Higher the correlation, more will be the similarity.\n",
    "![title](images/pearson)"
   ]
  },
  {
   "cell_type": "code",
   "execution_count": 20,
   "metadata": {},
   "outputs": [],
   "source": [
    "tfidf_matrix_array = count_matrix.toarray()"
   ]
  },
  {
   "cell_type": "code",
   "execution_count": 21,
   "metadata": {},
   "outputs": [],
   "source": [
    "def recommend_pearson(isbn):\n",
    "    id = inddict[isbn]\n",
    "    correlation = []\n",
    "    for i in range(len(tfidf_matrix_array)):\n",
    "        correlation.append(pearsonr(tfidf_matrix_array[id],tfidf_matrix_array[i])[0])\n",
    "    correlation = list(enumerate(correlation))\n",
    "    sorted_corr = sorted(correlation, reverse = True, key = lambda x : x[1])[1:11]\n",
    "    movies_index = [i[0] for i in sorted_corr]\n",
    "    return list(new_df.iloc[movies_index].index)"
   ]
  },
  {
   "cell_type": "code",
   "execution_count": 22,
   "metadata": {
    "scrolled": true
   },
   "outputs": [
    {
     "data": {
      "text/plain": [
       "['Rocky III',\n",
       " 'Rocky II',\n",
       " 'Rocky IV',\n",
       " 'Rocky V',\n",
       " 'The Bleeder',\n",
       " 'Tunisian Victory',\n",
       " 'The Blue Planet: A Natural History of the Oceans',\n",
       " 'Ghost Rider',\n",
       " 'Wheelman',\n",
       " 'Spy Kids 3: Game Over']"
      ]
     },
     "execution_count": 22,
     "metadata": {},
     "output_type": "execute_result"
    }
   ],
   "source": [
    "recommend_pearson('Rocky')"
   ]
  },
  {
   "cell_type": "markdown",
   "metadata": {},
   "source": [
    "We did matching score using cosine similarity, Euclidean Distance and PearsonR correlation.\n",
    "\n",
    "Our query was the movie Rocky and we found all the movies similar to Rocky. By this we can say that our recommendation engine is working.\n",
    "\n",
    "## Conclusion\n",
    "A major drawback of this content based filtering is that it is limited to recommending items that are of the same type. It will never recommend products which the user has not watched or liked in the past. So, if a user has watched a movie about Rocky in the past, then the system will recommend only movies similar to Rocky. Its a very narrow way of building an engine. To improve on this type of system, we need an algorithm that can recommend items not just based on the content but the behaviour of users as well."
   ]
  }
 ],
 "metadata": {
  "kernelspec": {
   "display_name": "Python 3",
   "language": "python",
   "name": "python3"
  },
  "language_info": {
   "codemirror_mode": {
    "name": "ipython",
    "version": 3
   },
   "file_extension": ".py",
   "mimetype": "text/x-python",
   "name": "python",
   "nbconvert_exporter": "python",
   "pygments_lexer": "ipython3",
   "version": "3.7.4"
  }
 },
 "nbformat": 4,
 "nbformat_minor": 2
}
