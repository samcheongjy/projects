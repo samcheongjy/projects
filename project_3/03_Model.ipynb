{
 "cells": [
  {
   "cell_type": "code",
   "execution_count": 17,
   "metadata": {},
   "outputs": [],
   "source": [
    "import pandas as pd\n",
    "import numpy as np\n",
    "\n",
    "from sklearn.pipeline import Pipeline\n",
    "from sklearn.feature_extraction.text import CountVectorizer\n",
    "from sklearn.base import BaseEstimator\n",
    "from sklearn.linear_model import LogisticRegression\n",
    "from sklearn.model_selection import cross_val_score,train_test_split,GridSearchCV\n",
    "from sklearn.metrics import confusion_matrix\n",
    "from sklearn import metrics\n",
    "\n",
    "from sklearn.naive_bayes import MultinomialNB\n",
    "from sklearn.ensemble import RandomForestClassifier,BaggingClassifier,ExtraTreesClassifier\n",
    "from sklearn.tree import DecisionTreeClassifier\n",
    "from sklearn.neighbors import KNeighborsClassifier\n",
    "\n",
    "import matplotlib.pyplot as plt"
   ]
  },
  {
   "cell_type": "code",
   "execution_count": 2,
   "metadata": {},
   "outputs": [],
   "source": [
    "df = pd.read_csv('./data/final_df.csv')"
   ]
  },
  {
   "cell_type": "code",
   "execution_count": 3,
   "metadata": {},
   "outputs": [
    {
     "data": {
      "text/plain": [
       "(1969, 14)"
      ]
     },
     "metadata": {},
     "output_type": "display_data"
    },
    {
     "data": {
      "text/plain": [
       "0"
      ]
     },
     "metadata": {},
     "output_type": "display_data"
    }
   ],
   "source": [
    "# Cheking data frame shape\n",
    "display(df.shape)\n",
    "#Checking if there is a null value\n",
    "display(df.isnull().sum().sum())\n",
    "#Checking column names\n",
    "#df.columns"
   ]
  },
  {
   "cell_type": "markdown",
   "metadata": {},
   "source": [
    "- Our final dataframe after combining both datasets from r/pcmasterrace and r/mac has 1,969 rows and 14 columns.\n",
    "There is no null values in our final dataframe."
   ]
  },
  {
   "cell_type": "markdown",
   "metadata": {},
   "source": [
    "## Base Line Accuracy"
   ]
  },
  {
   "cell_type": "code",
   "execution_count": 4,
   "metadata": {},
   "outputs": [
    {
     "data": {
      "text/plain": [
       "1    0.507872\n",
       "Name: label, dtype: float64"
      ]
     },
     "execution_count": 4,
     "metadata": {},
     "output_type": "execute_result"
    }
   ],
   "source": [
    "df['label'].value_counts(normalize=True)[0:1]  # value and pct"
   ]
  },
  {
   "cell_type": "markdown",
   "metadata": {},
   "source": [
    "- As calculated above, the baseline accuracy for the dataset is 50.79%."
   ]
  },
  {
   "cell_type": "markdown",
   "metadata": {},
   "source": [
    "## Features:"
   ]
  },
  {
   "cell_type": "code",
   "execution_count": 5,
   "metadata": {},
   "outputs": [],
   "source": [
    "feat_title = ['title']\n",
    "feat_clean_title = ['clean_title'] \n",
    "feat_tit_lemmat = ['clean_title_lemmat'] \n",
    "feat_tit_lancast = ['clean_title_lancast'] \n",
    "feat_tit_port = ['clean_title_port'] ## Highest Score\n",
    "features = feat_tit_port"
   ]
  },
  {
   "cell_type": "code",
   "execution_count": 6,
   "metadata": {},
   "outputs": [
    {
     "name": "stdout",
     "output_type": "stream",
     "text": [
      "<class 'pandas.core.frame.DataFrame'>\n",
      "Int64Index: 1969 entries, 0 to 1969\n",
      "Data columns (total 14 columns):\n",
      "title                     1969 non-null object\n",
      "selftext                  1969 non-null object\n",
      "ups                       1969 non-null int64\n",
      "num_comments              1969 non-null int64\n",
      "author                    1969 non-null object\n",
      "label                     1969 non-null int64\n",
      "clean_title               1969 non-null object\n",
      "clean_selftext            1969 non-null object\n",
      "clean_title_lemmat        1969 non-null object\n",
      "clean_title_lancast       1969 non-null object\n",
      "clean_title_port          1969 non-null object\n",
      "clean_selftext_lemmat     1969 non-null object\n",
      "clean_selftext_lancast    1969 non-null object\n",
      "clean_selftext_port       1969 non-null object\n",
      "dtypes: int64(3), object(11)\n",
      "memory usage: 230.7+ KB\n"
     ]
    }
   ],
   "source": [
    "df.info()"
   ]
  },
  {
   "cell_type": "markdown",
   "metadata": {},
   "source": [
    "- Appending Stemmer/Lemmatizer columns and ensuring all columns are in the correct data type before performing train test split."
   ]
  },
  {
   "cell_type": "markdown",
   "metadata": {},
   "source": [
    "## Split test:"
   ]
  },
  {
   "cell_type": "code",
   "execution_count": 7,
   "metadata": {},
   "outputs": [],
   "source": [
    "#Preparing data\n",
    "X = df[features].iloc[:,0]\n",
    "y = df['label']\n",
    "X_train, X_test, y_train, y_test = train_test_split(X,y,stratify=y,random_state=42)"
   ]
  },
  {
   "cell_type": "markdown",
   "metadata": {},
   "source": [
    "### Testing which stemmer / lemmatizer give best results in multinomialNB"
   ]
  },
  {
   "cell_type": "code",
   "execution_count": 8,
   "metadata": {},
   "outputs": [],
   "source": [
    "cv = CountVectorizer()\n",
    "model_mult_nb = MultinomialNB()\n",
    "alphas = np.linspace(0,2,20)[1:]\n",
    "\n",
    "pipe = Pipeline([('cv',cv),\n",
    "                ('model',model_mult_nb)\n",
    "])"
   ]
  },
  {
   "cell_type": "code",
   "execution_count": 9,
   "metadata": {},
   "outputs": [
    {
     "name": "stdout",
     "output_type": "stream",
     "text": [
      "GridSearchCV(cv=5, error_score=nan,\n",
      "             estimator=Pipeline(memory=None,\n",
      "                                steps=[('cv',\n",
      "                                        CountVectorizer(analyzer='word',\n",
      "                                                        binary=False,\n",
      "                                                        decode_error='strict',\n",
      "                                                        dtype=<class 'numpy.int64'>,\n",
      "                                                        encoding='utf-8',\n",
      "                                                        input='content',\n",
      "                                                        lowercase=True,\n",
      "                                                        max_df=1.0,\n",
      "                                                        max_features=None,\n",
      "                                                        min_df=1,\n",
      "                                                        ngram_range=(1, 1),\n",
      "                                                        preprocessor=None,\n",
      "                                                        stop_words=None,\n",
      "                                                        strip_accents=None,\n",
      "                                                        token_pattern='(?u)\\\\...\n",
      "                         'cv__stop_words': [['pc', 'macbook', 'mac', 'imac']],\n",
      "                         'model__alpha': array([0.10526316, 0.21052632, 0.31578947, 0.42105263, 0.52631579,\n",
      "       0.63157895, 0.73684211, 0.84210526, 0.94736842, 1.05263158,\n",
      "       1.15789474, 1.26315789, 1.36842105, 1.47368421, 1.57894737,\n",
      "       1.68421053, 1.78947368, 1.89473684, 2.        ])},\n",
      "             pre_dispatch='2*n_jobs', refit=True, return_train_score=False,\n",
      "             scoring=None, verbose=0)\n",
      "{'cv__max_df': 0.15, 'cv__max_features': 4000, 'cv__min_df': 1, 'cv__ngram_range': (1, 1), 'cv__stop_words': ['pc', 'macbook', 'mac', 'imac'], 'model__alpha': 1.1578947368421053}\n",
      "Train Score:  0.8252\n",
      "Test Score:  0.8337\n"
     ]
    }
   ],
   "source": [
    "params = {'cv__stop_words': [['pc','macbook','mac','imac']],\n",
    "           'cv__max_features':[4000,5000,6000,None],\n",
    "          'cv__ngram_range': [(1,1)],\n",
    "          'cv__min_df': [1,5,10,15],\n",
    "          'cv__max_df':[0.10,0.15,0.2,0.3],\n",
    "           'model__alpha' : alphas\n",
    "    }\n",
    "gs = GridSearchCV(pipe, param_grid=params,cv=5)\n",
    "print(gs.fit(X_train,y_train))\n",
    "print(gs.best_params_)\n",
    "print(\"Train Score: \", round(gs.best_score_,4))\n",
    "print(\"Test Score: \", round(gs.score(X_test,y_test),4))"
   ]
  },
  {
   "cell_type": "markdown",
   "metadata": {},
   "source": [
    "- PorterStemmer yielded highest score in a multinomialNB model, using only title (ie. pc and mac root words) as stop words.\n",
    "- The best hyperparameters from GridSearch are as follows: {'cv__max_df': 0.15, 'cv__max_features': 4000, 'cv__min_df': 1, 'cv__ngram_range': (1, 1), 'cv__stop_words': ['pc', 'macbook', 'mac', 'imac'], 'model__alpha': 1.1578947368421053}"
   ]
  },
  {
   "cell_type": "markdown",
   "metadata": {},
   "source": [
    "## Vectorizing and Appending other features:"
   ]
  },
  {
   "cell_type": "code",
   "execution_count": 10,
   "metadata": {},
   "outputs": [
    {
     "name": "stdout",
     "output_type": "stream",
     "text": [
      "Dic Size: 2300\n"
     ]
    }
   ],
   "source": [
    "vectorizer = CountVectorizer(stop_words = ['pc','macbook','mac','imac'],\n",
    "                            max_features = 4000,\n",
    "                            ngram_range = (1,1),\n",
    "                            min_df = 1,\n",
    "                            max_df = 0.15)\n",
    "X_train_title_vec = vectorizer.fit_transform(X_train)\n",
    "X_test_title_vec = vectorizer.transform(X_test)\n",
    "\n",
    "print(\"Dic Size:\", len(vectorizer.get_feature_names()))"
   ]
  },
  {
   "cell_type": "markdown",
   "metadata": {},
   "source": [
    "- Vectorizing and appending additional features names into our model to determine whether it helps improve the performance of our model.\n",
    "\n",
    "- The dictionary size consist of 2,300 aditional feature names."
   ]
  },
  {
   "cell_type": "code",
   "execution_count": 11,
   "metadata": {},
   "outputs": [],
   "source": [
    "new_train_df = pd.DataFrame()\n",
    "new_test_df = pd.DataFrame()\n",
    "\n",
    "for i, col in enumerate(vectorizer.get_feature_names()):\n",
    "    new_train_df[col] = pd.Series(pd.SparseArray(X_train_title_vec[:, i].toarray().ravel(), fill_value=0))\n",
    "    \n",
    "for i, col in enumerate(vectorizer.get_feature_names()):\n",
    "    new_test_df[col] = pd.Series(pd.SparseArray(X_test_title_vec[:, i].toarray().ravel(), fill_value=0))"
   ]
  },
  {
   "cell_type": "markdown",
   "metadata": {},
   "source": [
    "### Adding features:"
   ]
  },
  {
   "cell_type": "code",
   "execution_count": 12,
   "metadata": {},
   "outputs": [],
   "source": [
    "## Adding to Train data frame\n",
    "ups_train_list = []\n",
    "comment_train_list = []\n",
    "for row_numb in X_train.index:\n",
    "    ups_train_list.append(df.loc[row_numb,['ups']][0])\n",
    "    comment_train_list.append(df.loc[row_numb,['num_comments']][0])\n",
    "\n",
    "new_train_df['ups'] = ups_train_list\n",
    "new_train_df['num_comments'] = comment_train_list\n",
    "\n",
    "## Adding to Test data frame\n",
    "ups_test_list = []\n",
    "comment_test_list = []\n",
    "for row_numb in X_test.index:\n",
    "    ups_test_list.append(df.loc[row_numb,['ups']][0])\n",
    "    comment_test_list.append(df.loc[row_numb,['num_comments']][0])\n",
    "new_test_df['ups'] = ups_test_list\n",
    "new_test_df['num_comments'] = comment_test_list"
   ]
  },
  {
   "cell_type": "markdown",
   "metadata": {},
   "source": [
    "### Running the same model with new features:"
   ]
  },
  {
   "cell_type": "code",
   "execution_count": 13,
   "metadata": {},
   "outputs": [
    {
     "name": "stdout",
     "output_type": "stream",
     "text": [
      "Train score 0.5501355013550135\n",
      "Test score 0.5598377281947262\n"
     ]
    }
   ],
   "source": [
    "# for alpha in np.linspace(0,2,20)[1:]:\n",
    "model_mult_nb = MultinomialNB(alpha=1.0, class_prior=None, fit_prior=True)\n",
    "model_mult_nb.fit(new_train_df,y_train)\n",
    "print(\"Train score\", model_mult_nb.score(new_train_df,y_train))\n",
    "print(\"Test score\", model_mult_nb.score(new_test_df,y_test))"
   ]
  },
  {
   "cell_type": "markdown",
   "metadata": {},
   "source": [
    "### Results:"
   ]
  },
  {
   "cell_type": "markdown",
   "metadata": {},
   "source": [
    "- As seen from the worse train score (55,01% compared to 82.52%) and test score (55.98% compared to 83.37%), the new features did not increase the model performance."
   ]
  },
  {
   "cell_type": "markdown",
   "metadata": {},
   "source": [
    "## Multinomial Naive Bayes"
   ]
  },
  {
   "cell_type": "code",
   "execution_count": 14,
   "metadata": {},
   "outputs": [
    {
     "name": "stdout",
     "output_type": "stream",
     "text": [
      "GridSearchCV(cv=5, error_score=nan,\n",
      "             estimator=Pipeline(memory=None,\n",
      "                                steps=[('cv',\n",
      "                                        CountVectorizer(analyzer='word',\n",
      "                                                        binary=False,\n",
      "                                                        decode_error='strict',\n",
      "                                                        dtype=<class 'numpy.int64'>,\n",
      "                                                        encoding='utf-8',\n",
      "                                                        input='content',\n",
      "                                                        lowercase=True,\n",
      "                                                        max_df=1.0,\n",
      "                                                        max_features=None,\n",
      "                                                        min_df=1,\n",
      "                                                        ngram_range=(1, 1),\n",
      "                                                        preprocessor=None,\n",
      "                                                        stop_words=None,\n",
      "                                                        strip_accents=None,\n",
      "                                                        token_pattern='(?u)\\\\...\n",
      "                         'cv__stop_words': [['pc', 'macbook', 'mac', 'imac']],\n",
      "                         'model__alpha': array([0.10526316, 0.21052632, 0.31578947, 0.42105263, 0.52631579,\n",
      "       0.63157895, 0.73684211, 0.84210526, 0.94736842, 1.05263158,\n",
      "       1.15789474, 1.26315789, 1.36842105, 1.47368421, 1.57894737,\n",
      "       1.68421053, 1.78947368, 1.89473684, 2.        ])},\n",
      "             pre_dispatch='2*n_jobs', refit=True, return_train_score=False,\n",
      "             scoring=None, verbose=0)\n",
      "{'cv__max_df': 0.15, 'cv__max_features': 4000, 'cv__min_df': 1, 'cv__ngram_range': (1, 1), 'cv__stop_words': ['pc', 'macbook', 'mac', 'imac'], 'model__alpha': 1.1578947368421053}\n",
      "Train Score:  0.8252\n",
      "Test Score:  0.8337\n"
     ]
    }
   ],
   "source": [
    "cv = CountVectorizer()\n",
    "model_mult_nb = MultinomialNB()\n",
    "params = {'cv__stop_words': [['pc','macbook','mac','imac']],\n",
    "           'cv__max_features':[4000],\n",
    "          'cv__ngram_range': [(1,1)],\n",
    "          'cv__min_df': [1],\n",
    "          'cv__max_df':[0.15],\n",
    "           'model__alpha' : alphas\n",
    "    }\n",
    "gs = GridSearchCV(pipe, param_grid=params,cv=5)\n",
    "print(gs.fit(X_train,y_train))\n",
    "print(gs.best_params_)\n",
    "print(\"Train Score: \", round(gs.best_score_,4))\n",
    "print(\"Test Score: \", round(gs.score(X_test,y_test),4))"
   ]
  },
  {
   "cell_type": "markdown",
   "metadata": {},
   "source": [
    "- After removing the title of the subreddits as stop words (i.e. pc, macbook, mac & imac), our Multinomial Naive Bayes Model performs decently well without overfitting with a train score of 82.52% and a test score of 83.37%."
   ]
  },
  {
   "cell_type": "code",
   "execution_count": 15,
   "metadata": {},
   "outputs": [],
   "source": [
    "# Generate predictions.\n",
    "preds = gs.predict(X_test)"
   ]
  },
  {
   "cell_type": "code",
   "execution_count": 18,
   "metadata": {},
   "outputs": [
    {
     "data": {
      "text/plain": [
       "array([[198,  45],\n",
       "       [ 37, 213]])"
      ]
     },
     "execution_count": 18,
     "metadata": {},
     "output_type": "execute_result"
    }
   ],
   "source": [
    "# Generate confusion matrix.\n",
    "\n",
    "confusion_matrix(y_test, # True values.\n",
    "                 preds)  # Predicted values."
   ]
  },
  {
   "cell_type": "code",
   "execution_count": 73,
   "metadata": {},
   "outputs": [
    {
     "data": {
      "image/png": "[encoded data removed]",
      "text/plain": [
       "<Figure size 432x288 with 2 Axes>"
      ]
     },
     "metadata": {
      "needs_background": "light"
     },
     "output_type": "display_data"
    }
   ],
   "source": [
    "disp = metrics.plot_confusion_matrix(gs, X_test, y_test,\n",
    "                                    values_format = 'n',\n",
    "                                    display_labels = ['pcmasterrace','mac'])"
   ]
  },
  {
   "cell_type": "markdown",
   "metadata": {},
   "source": [
    "- The Multinomial Naive Bayes Model has 213 True Positives and 198 True Negatives, far outweighing the 45 False Positives and 37 False Negatives."
   ]
  },
  {
   "cell_type": "code",
   "execution_count": 106,
   "metadata": {},
   "outputs": [
    {
     "name": "stdout",
     "output_type": "stream",
     "text": [
      "Specificity: 0.8148\n",
      "Sensitivity/Recall: 0.852\n",
      "Precision: 0.8256\n",
      "F1 Score: 0.8386\n",
      "TN: 198\n",
      "FP: 45\n",
      "FN: 37\n",
      "TP: 213\n"
     ]
    }
   ],
   "source": [
    "# Save TN/FP/FN/TP values.\n",
    "\n",
    "tn, fp, fn, tp = confusion_matrix(y_test, preds).ravel()\n",
    "spec = tn / (tn + fp)\n",
    "print(f'Specificity: {round(spec,4)}')\n",
    "sens = tp / (tp + fn)\n",
    "print(f'Sensitivity/Recall: {round(sens,4)}')\n",
    "prec = tp / (tp + fp)\n",
    "print(f'Precision: {round(prec,4)}')\n",
    "f1 = (2 * prec * sens)/(prec+sens)\n",
    "print(f'F1 Score: {round(f1,4)}')\n",
    "print(f'TN: {round(tn,4)}')\n",
    "print(f'FP: {round(fp,4)}')\n",
    "print(f'FN: {round(fn,4)}')\n",
    "print(f'TP: {round(tp,4)}')"
   ]
  },
  {
   "cell_type": "markdown",
   "metadata": {},
   "source": [
    "- As seen from the slightly higher Sensitivity score (85.2%) compared to the Specificity Score (81.48%), our model does a slightly better job of correctly predicting posts relating to the r/mac subreddit as compared to posts relating to the r/pcmasterrace subreddit.\n",
    "- The model has a reasonably good recall score of 85.2%. However, we will only select this as our best model when there is a high cost associated with False Negative.\n",
    "- The model has a reasonably good precision score of 82.56%. However, the cost of False Positive in this context is not high. Hence, we will not use this metric as our sole determinor for selecting our best model.\n",
    "- The model has a reasonably good overall F1 Score of 83.86%. As there is neither a significant cost of False Positive/ False Negative in this business context, the F1 Score might be a better measure to use if we need to seek a balance between Precision and Recall AND there is an uneven class distribution (large number of Actual Negatives)."
   ]
  },
  {
   "cell_type": "code",
   "execution_count": 21,
   "metadata": {},
   "outputs": [
    {
     "data": {
      "text/html": [
       "<div>\n",
       "<style scoped>\n",
       "    .dataframe tbody tr th:only-of-type {\n",
       "        vertical-align: middle;\n",
       "    }\n",
       "\n",
       "    .dataframe tbody tr th {\n",
       "        vertical-align: top;\n",
       "    }\n",
       "\n",
       "    .dataframe thead th {\n",
       "        text-align: right;\n",
       "    }\n",
       "</style>\n",
       "<table border=\"1\" class=\"dataframe\">\n",
       "  <thead>\n",
       "    <tr style=\"text-align: right;\">\n",
       "      <th></th>\n",
       "      <th>true_values</th>\n",
       "      <th>pred_probs</th>\n",
       "    </tr>\n",
       "  </thead>\n",
       "  <tbody>\n",
       "    <tr>\n",
       "      <th>555</th>\n",
       "      <td>0</td>\n",
       "      <td>0.141029</td>\n",
       "    </tr>\n",
       "    <tr>\n",
       "      <th>775</th>\n",
       "      <td>0</td>\n",
       "      <td>0.000006</td>\n",
       "    </tr>\n",
       "    <tr>\n",
       "      <th>779</th>\n",
       "      <td>0</td>\n",
       "      <td>0.002211</td>\n",
       "    </tr>\n",
       "    <tr>\n",
       "      <th>1137</th>\n",
       "      <td>1</td>\n",
       "      <td>0.636866</td>\n",
       "    </tr>\n",
       "    <tr>\n",
       "      <th>1767</th>\n",
       "      <td>1</td>\n",
       "      <td>0.386006</td>\n",
       "    </tr>\n",
       "    <tr>\n",
       "      <th>...</th>\n",
       "      <td>...</td>\n",
       "      <td>...</td>\n",
       "    </tr>\n",
       "    <tr>\n",
       "      <th>206</th>\n",
       "      <td>0</td>\n",
       "      <td>0.264202</td>\n",
       "    </tr>\n",
       "    <tr>\n",
       "      <th>27</th>\n",
       "      <td>0</td>\n",
       "      <td>0.010806</td>\n",
       "    </tr>\n",
       "    <tr>\n",
       "      <th>372</th>\n",
       "      <td>0</td>\n",
       "      <td>0.143085</td>\n",
       "    </tr>\n",
       "    <tr>\n",
       "      <th>1679</th>\n",
       "      <td>1</td>\n",
       "      <td>0.662248</td>\n",
       "    </tr>\n",
       "    <tr>\n",
       "      <th>273</th>\n",
       "      <td>0</td>\n",
       "      <td>0.022928</td>\n",
       "    </tr>\n",
       "  </tbody>\n",
       "</table>\n",
       "<p>493 rows × 2 columns</p>\n",
       "</div>"
      ],
      "text/plain": [
       "      true_values  pred_probs\n",
       "555             0    0.141029\n",
       "775             0    0.000006\n",
       "779             0    0.002211\n",
       "1137            1    0.636866\n",
       "1767            1    0.386006\n",
       "...           ...         ...\n",
       "206             0    0.264202\n",
       "27              0    0.010806\n",
       "372             0    0.143085\n",
       "1679            1    0.662248\n",
       "273             0    0.022928\n",
       "\n",
       "[493 rows x 2 columns]"
      ]
     },
     "execution_count": 21,
     "metadata": {},
     "output_type": "execute_result"
    }
   ],
   "source": [
    "# Let's create a dataframe called pred_df that contains:\n",
    "# 1. The list of true values of our test set.\n",
    "# 2. The list of predicted probabilities based on our model.\n",
    "\n",
    "pred_proba = [i[1] for i in gs.predict_proba(X_test)]\n",
    "\n",
    "pred_df = pd.DataFrame({'true_values': y_test,\n",
    "                        'pred_probs':pred_proba})\n",
    "pred_df"
   ]
  },
  {
   "cell_type": "code",
   "execution_count": 81,
   "metadata": {},
   "outputs": [
    {
     "data": {
      "image/png": "[encoded data removed]",
      "text/plain": [
       "<Figure size 720x504 with 1 Axes>"
      ]
     },
     "metadata": {
      "needs_background": "light"
     },
     "output_type": "display_data"
    }
   ],
   "source": [
    "# Create figure.\n",
    "plt.figure(figsize = (10,7))\n",
    "\n",
    "# Create two histograms of observations.\n",
    "plt.hist(pred_df[pred_df['true_values'] == 0]['pred_probs'],\n",
    "         bins=25,\n",
    "         color='b',\n",
    "         alpha = 0.6,\n",
    "         label='Outcome = 0')\n",
    "plt.hist(pred_df[pred_df['true_values'] == 1]['pred_probs'],\n",
    "         bins=25,\n",
    "         color='orange',\n",
    "         alpha = 0.6,\n",
    "         label='Outcome = 1')\n",
    "\n",
    "# Add vertical line at P(Outcome = 1) = 0.5.\n",
    "plt.vlines(x=0.5,\n",
    "           ymin = 0,\n",
    "           ymax = 130,\n",
    "           color='r',\n",
    "           linestyle = '--')\n",
    "\n",
    "# Label axes.\n",
    "plt.title('Distribution of P(Outcome = 1)', fontsize=22)\n",
    "plt.ylabel('Frequency', fontsize=18)\n",
    "plt.xlabel('Predicted Probability that Outcome = 1', fontsize=18)\n",
    "\n",
    "# Create legend.\n",
    "plt.legend(fontsize=20);"
   ]
  },
  {
   "cell_type": "markdown",
   "metadata": {},
   "source": [
    "- This is a graphically representation in the form of a histogram showing that the Multinomial Naive Bayes Model has 213 True Positives and 198 True Negatives, far outweighing the 45 False Positives and 37 False Negatives."
   ]
  },
  {
   "cell_type": "markdown",
   "metadata": {},
   "source": [
    "## Logistic Regression Model"
   ]
  },
  {
   "cell_type": "code",
   "execution_count": 42,
   "metadata": {},
   "outputs": [
    {
     "name": "stdout",
     "output_type": "stream",
     "text": [
      "Cross Val Score:  0.8102954649564819\n",
      "Train Score:  0.9728997289972899\n",
      "Test Score:  0.8275862068965517\n"
     ]
    }
   ],
   "source": [
    "#Without Hyperparameters\n",
    "vectorizer = CountVectorizer(stop_words = ['pc','macbook','mac','imac'],\n",
    "                            max_features = 4000,\n",
    "                            ngram_range = (1,1),\n",
    "                            min_df = 1,\n",
    "                            max_df = 0.15)\n",
    "X_train_vec = vectorizer.fit_transform(X_train)\n",
    "X_test_vec = vectorizer.transform(X_test)\n",
    "\n",
    "lr = LogisticRegression()\n",
    "\n",
    "lr.fit(X_train_vec,y_train)\n",
    "print(\"Cross Val Score: \",cross_val_score(lr,X_train_vec,y_train,cv=5).mean())\n",
    "print(\"Train Score: \",lr.score(X_train_vec,y_train))\n",
    "print(\"Test Score: \",lr.score(X_test_vec,y_test))"
   ]
  },
  {
   "cell_type": "code",
   "execution_count": 48,
   "metadata": {},
   "outputs": [
    {
     "name": "stdout",
     "output_type": "stream",
     "text": [
      "Fitting 5 folds for each of 128 candidates, totalling 640 fits\n"
     ]
    },
    {
     "name": "stderr",
     "output_type": "stream",
     "text": [
      "[Parallel(n_jobs=-1)]: Using backend LokyBackend with 8 concurrent workers.\n"
     ]
    },
    {
     "name": "stdout",
     "output_type": "stream",
     "text": [
      "Best penalty: l2\n",
      "Best C: 1\n",
      "Best class_weight: {1: 0.4, 0: 0.6}\n",
      "Best solver: saga\n"
     ]
    },
    {
     "name": "stderr",
     "output_type": "stream",
     "text": [
      "[Parallel(n_jobs=-1)]: Done 640 out of 640 | elapsed:  2.0min finished\n"
     ]
    }
   ],
   "source": [
    "penalty = ['l1', 'l2']\n",
    "C = [0.0001, 0.001, 0.01, 0.1, 1, 10, 100, 1000]\n",
    "class_weight = [{1:0.5, 0:0.5}, {1:0.4, 0:0.6}, {1:0.6, 0:0.4}, {1:0.7, 0:0.3}]\n",
    "solver = ['liblinear', 'saga']\n",
    "\n",
    "lr2 = LogisticRegression(max_iter=1000)\n",
    "\n",
    "param_grid = dict(penalty=penalty,\n",
    "                  C=C,\n",
    "                  class_weight=class_weight,\n",
    "                  solver=solver)\n",
    "\n",
    "grid = GridSearchCV(estimator=lr2,\n",
    "                    param_grid=param_grid,\n",
    "                    scoring='roc_auc',\n",
    "                    verbose=1,\n",
    "                    n_jobs=-1)\n",
    "                  \n",
    "#Fit the model\n",
    "best_model = grid.fit(X_train_vec,y_train)\n",
    "                  \n",
    "#Print The value of best Hyperparameters\n",
    "print('Best penalty:', best_model.best_estimator_.get_params()['penalty'])\n",
    "print('Best C:', best_model.best_estimator_.get_params()['C'])\n",
    "print('Best class_weight:', best_model.best_estimator_.get_params()['class_weight'])\n",
    "print('Best solver:', best_model.best_estimator_.get_params()['solver'])"
   ]
  },
  {
   "cell_type": "code",
   "execution_count": 53,
   "metadata": {},
   "outputs": [
    {
     "name": "stdout",
     "output_type": "stream",
     "text": [
      "Cross Val Score:  0.7967498854786991\n",
      "Train Score:  0.9220867208672087\n",
      "Test Score:  0.8093306288032455\n"
     ]
    }
   ],
   "source": [
    "lr3 = LogisticRegression(max_iter=1000,\n",
    "                        penalty='l2',\n",
    "                        C=1,\n",
    "                        class_weight={1: 0.4, 0: 0.6},\n",
    "                        solver='saga',\n",
    "                        )\n",
    "\n",
    "lr3.fit(X_train_vec,y_train)\n",
    "print(\"Cross Val Score: \",cross_val_score(lr3,X_train_vec,y_train,cv=5).mean())\n",
    "print(\"Train Score: \",lr3.score(X_train_vec,y_train))\n",
    "print(\"Test Score: \",lr3.score(X_test_vec,y_test))"
   ]
  },
  {
   "cell_type": "markdown",
   "metadata": {},
   "source": [
    "- The model is overfit with a 92% accuracy in training data.\n",
    "- The test score was similar to cross validation score (approx. 80%). The model is expected to have 80% accuracy in new data.\n",
    "- Hyper parameter tuning had a slight improvement in fit compared to the default options. Based on the decrease in difference between the train score and test score from approx. 15% to 12%, the model appears to be better fitted."
   ]
  },
  {
   "cell_type": "code",
   "execution_count": 57,
   "metadata": {},
   "outputs": [],
   "source": [
    "# Generate predictions.\n",
    "preds2 = lr3.predict(X_test_vec)"
   ]
  },
  {
   "cell_type": "code",
   "execution_count": 58,
   "metadata": {},
   "outputs": [
    {
     "data": {
      "text/plain": [
       "array([[223,  20],\n",
       "       [ 74, 176]])"
      ]
     },
     "execution_count": 58,
     "metadata": {},
     "output_type": "execute_result"
    }
   ],
   "source": [
    "# Generate confusion matrix.\n",
    "\n",
    "confusion_matrix(y_test, # True values.\n",
    "                 preds2)  # Predicted values."
   ]
  },
  {
   "cell_type": "code",
   "execution_count": 60,
   "metadata": {},
   "outputs": [
    {
     "data": {
      "image/png": "[encoded data removed]",
      "text/plain": [
       "<Figure size 432x288 with 2 Axes>"
      ]
     },
     "metadata": {
      "needs_background": "light"
     },
     "output_type": "display_data"
    }
   ],
   "source": [
    "disp = metrics.plot_confusion_matrix(lr3, X_test_vec, y_test,\n",
    "                                    values_format = 'n',\n",
    "                                    display_labels = ['pcmasterrace','mac'])"
   ]
  },
  {
   "cell_type": "markdown",
   "metadata": {},
   "source": [
    "- The Logistic Regression Model has 176 True Positives and 223 True Negatives, far outweighing the 20 False Positives and 74 False Negatives."
   ]
  },
  {
   "cell_type": "code",
   "execution_count": 108,
   "metadata": {},
   "outputs": [
    {
     "name": "stdout",
     "output_type": "stream",
     "text": [
      "Specificity: 0.9177\n",
      "Sensitivity/Recall: 0.704\n",
      "Precision: 0.898\n",
      "F1 Score: 0.7892\n",
      "TN: 223\n",
      "FP: 20\n",
      "FN: 74\n",
      "TP: 176\n"
     ]
    }
   ],
   "source": [
    "# Save TN/FP/FN/TP values.\n",
    "\n",
    "tn, fp, fn, tp = confusion_matrix(y_test, preds2).ravel()\n",
    "spec = tn / (tn + fp)\n",
    "print(f'Specificity: {round(spec,4)}')\n",
    "sens = tp / (tp + fn)\n",
    "print(f'Sensitivity/Recall: {round(sens,4)}')\n",
    "prec = tp / (tp + fp)\n",
    "print(f'Precision: {round(prec,4)}')\n",
    "f1 = (2 * prec * sens)/(prec+sens)\n",
    "print(f'F1 Score: {round(f1,4)}')\n",
    "print(f'TN: {round(tn,4)}')\n",
    "print(f'FP: {round(fp,4)}')\n",
    "print(f'FN: {round(fn,4)}')\n",
    "print(f'TP: {round(tp,4)}')"
   ]
  },
  {
   "cell_type": "markdown",
   "metadata": {},
   "source": [
    "- As seen from the significantly higher Specificity score (91.77%) compared to the Specificity Score (70.4%), our model does a significantly better job of correctly predicting posts relating to the r/pcmasterrace subreddit as compared to posts relating to the r/mac subreddit.\n",
    "- The model has a comparatively poor recall score of 70.4%. However, we will only select this as our best model when there is a high cost associated with False Negative.\n",
    "- The model has a extremely good precision score of 89.8%. However, the cost of False Positive in this context is not high. Hence, we will not use this metric as our sole determinor for selecting our best model.\n",
    "- The model has a decent overall F1 Score of 78.92%. As there is neither a significant cost of False Positive/ False Negative in this business context, the F1 Score might be a better measure to use if we need to seek a balance between Precision and Recall AND there is an uneven class distribution (large number of Actual Negatives)."
   ]
  },
  {
   "cell_type": "code",
   "execution_count": 62,
   "metadata": {},
   "outputs": [
    {
     "data": {
      "text/html": [
       "<div>\n",
       "<style scoped>\n",
       "    .dataframe tbody tr th:only-of-type {\n",
       "        vertical-align: middle;\n",
       "    }\n",
       "\n",
       "    .dataframe tbody tr th {\n",
       "        vertical-align: top;\n",
       "    }\n",
       "\n",
       "    .dataframe thead th {\n",
       "        text-align: right;\n",
       "    }\n",
       "</style>\n",
       "<table border=\"1\" class=\"dataframe\">\n",
       "  <thead>\n",
       "    <tr style=\"text-align: right;\">\n",
       "      <th></th>\n",
       "      <th>true_values</th>\n",
       "      <th>pred_probs</th>\n",
       "    </tr>\n",
       "  </thead>\n",
       "  <tbody>\n",
       "    <tr>\n",
       "      <th>555</th>\n",
       "      <td>0</td>\n",
       "      <td>0.324688</td>\n",
       "    </tr>\n",
       "    <tr>\n",
       "      <th>775</th>\n",
       "      <td>0</td>\n",
       "      <td>0.026333</td>\n",
       "    </tr>\n",
       "    <tr>\n",
       "      <th>779</th>\n",
       "      <td>0</td>\n",
       "      <td>0.140871</td>\n",
       "    </tr>\n",
       "    <tr>\n",
       "      <th>1137</th>\n",
       "      <td>1</td>\n",
       "      <td>0.444545</td>\n",
       "    </tr>\n",
       "    <tr>\n",
       "      <th>1767</th>\n",
       "      <td>1</td>\n",
       "      <td>0.285833</td>\n",
       "    </tr>\n",
       "    <tr>\n",
       "      <th>...</th>\n",
       "      <td>...</td>\n",
       "      <td>...</td>\n",
       "    </tr>\n",
       "    <tr>\n",
       "      <th>206</th>\n",
       "      <td>0</td>\n",
       "      <td>0.420872</td>\n",
       "    </tr>\n",
       "    <tr>\n",
       "      <th>27</th>\n",
       "      <td>0</td>\n",
       "      <td>0.054851</td>\n",
       "    </tr>\n",
       "    <tr>\n",
       "      <th>372</th>\n",
       "      <td>0</td>\n",
       "      <td>0.162568</td>\n",
       "    </tr>\n",
       "    <tr>\n",
       "      <th>1679</th>\n",
       "      <td>1</td>\n",
       "      <td>0.437413</td>\n",
       "    </tr>\n",
       "    <tr>\n",
       "      <th>273</th>\n",
       "      <td>0</td>\n",
       "      <td>0.071767</td>\n",
       "    </tr>\n",
       "  </tbody>\n",
       "</table>\n",
       "<p>493 rows × 2 columns</p>\n",
       "</div>"
      ],
      "text/plain": [
       "      true_values  pred_probs\n",
       "555             0    0.324688\n",
       "775             0    0.026333\n",
       "779             0    0.140871\n",
       "1137            1    0.444545\n",
       "1767            1    0.285833\n",
       "...           ...         ...\n",
       "206             0    0.420872\n",
       "27              0    0.054851\n",
       "372             0    0.162568\n",
       "1679            1    0.437413\n",
       "273             0    0.071767\n",
       "\n",
       "[493 rows x 2 columns]"
      ]
     },
     "execution_count": 62,
     "metadata": {},
     "output_type": "execute_result"
    }
   ],
   "source": [
    "# Let's create a dataframe called pred_df that contains:\n",
    "# 1. The list of true values of our test set.\n",
    "# 2. The list of predicted probabilities based on our model.\n",
    "\n",
    "pred_proba2 = [i[1] for i in lr3.predict_proba(X_test_vec)]\n",
    "\n",
    "pred_df2 = pd.DataFrame({'true_values': y_test,\n",
    "                        'pred_probs':pred_proba2})\n",
    "pred_df2"
   ]
  },
  {
   "cell_type": "code",
   "execution_count": 74,
   "metadata": {},
   "outputs": [
    {
     "data": {
      "image/png": "[encoded data removed]",
      "text/plain": [
       "<Figure size 720x504 with 1 Axes>"
      ]
     },
     "metadata": {
      "needs_background": "light"
     },
     "output_type": "display_data"
    }
   ],
   "source": [
    "# Create figure.\n",
    "plt.figure(figsize = (10,7))\n",
    "\n",
    "# Create two histograms of observations.\n",
    "plt.hist(pred_df2[pred_df2['true_values'] == 0]['pred_probs'],\n",
    "         bins=25,\n",
    "         color='b',\n",
    "         alpha = 0.6,\n",
    "         label='Outcome = 0')\n",
    "plt.hist(pred_df2[pred_df2['true_values'] == 1]['pred_probs'],\n",
    "         bins=25,\n",
    "         color='orange',\n",
    "         alpha = 0.6,\n",
    "         label='Outcome = 1')\n",
    "\n",
    "# Add vertical line at P(Outcome = 1) = 0.5.\n",
    "plt.vlines(x=0.5,\n",
    "           ymin = 0,\n",
    "           ymax = 65,\n",
    "           color='r',\n",
    "           linestyle = '--')\n",
    "\n",
    "# Label axes.\n",
    "plt.title('Distribution of P(Outcome = 1)', fontsize=22)\n",
    "plt.ylabel('Frequency', fontsize=18)\n",
    "plt.xlabel('Predicted Probability that Outcome = 1', fontsize=18)\n",
    "\n",
    "# Create legend.\n",
    "plt.legend(fontsize=20);"
   ]
  },
  {
   "cell_type": "markdown",
   "metadata": {},
   "source": [
    "- This is a graphically representation in the form of a histogram showing that the Logistic Regression Model has 176 True Positives and 223 True Negatives, far outweighing the 20 False Positives and 74 False Negatives."
   ]
  },
  {
   "cell_type": "code",
   "execution_count": 82,
   "metadata": {},
   "outputs": [
    {
     "data": {
      "image/png": "[encoded data removed]",
      "text/plain": [
       "<Figure size 720x504 with 1 Axes>"
      ]
     },
     "metadata": {
      "needs_background": "light"
     },
     "output_type": "display_data"
    }
   ],
   "source": [
    "# Create figure.\n",
    "plt.figure(figsize = (10,7))\n",
    "\n",
    "# Create threshold values.\n",
    "thresholds = np.linspace(0, 1, 200)\n",
    "\n",
    "# Define function to calculate sensitivity. (True positive rate.)\n",
    "def TPR(df, true_col, pred_prob_col, threshold):\n",
    "    true_positive = df[(df[true_col] == 1) & (df[pred_prob_col] >= threshold)].shape[0]\n",
    "    false_negative = df[(df[true_col] == 1) & (df[pred_prob_col] < threshold)].shape[0]\n",
    "    return true_positive / (true_positive + false_negative)\n",
    "    \n",
    "\n",
    "# Define function to calculate 1 - specificity. (False positive rate.)\n",
    "def FPR(df, true_col, pred_prob_col, threshold):\n",
    "    true_negative = df[(df[true_col] == 0) & (df[pred_prob_col] <= threshold)].shape[0]\n",
    "    false_positive = df[(df[true_col] == 0) & (df[pred_prob_col] > threshold)].shape[0]\n",
    "    return 1 - (true_negative / (true_negative + false_positive))\n",
    "    \n",
    "# Calculate sensitivity & 1-specificity for each threshold between 0 and 1.\n",
    "tpr_values = [TPR(pred_df, 'true_values', 'pred_probs', prob) for prob in thresholds]\n",
    "fpr_values = [FPR(pred_df, 'true_values', 'pred_probs', prob) for prob in thresholds]\n",
    "\n",
    "tpr_values2 = [TPR(pred_df2, 'true_values', 'pred_probs', prob) for prob in thresholds]\n",
    "fpr_values2 = [FPR(pred_df2, 'true_values', 'pred_probs', prob) for prob in thresholds]\n",
    "\n",
    "# Plot ROC curve.\n",
    "plt.plot(fpr_values, # False Positive Rate on X-axis\n",
    "         tpr_values, # True Positive Rate on Y-axis\n",
    "         label='Naive Bayes')\n",
    "plt.plot(fpr_values2, # False Positive Rate on X-axis\n",
    "         tpr_values2, # True Positive Rate on Y-axis\n",
    "         label='Logistic Regression')\n",
    "\n",
    "# Plot baseline. (Perfect overlap between the two populations.)\n",
    "plt.plot(np.linspace(0, 1, 200),\n",
    "         np.linspace(0, 1, 200),\n",
    "         label='baseline',\n",
    "         linestyle='--')\n",
    "\n",
    "# Label axes.\n",
    "plt.title('Receiver Operating Characteristic Curve', fontsize=22)\n",
    "plt.ylabel('Sensitivity', fontsize=18)\n",
    "plt.xlabel('1 - Specificity', fontsize=18)\n",
    "\n",
    "# Create legend.\n",
    "plt.legend(fontsize=16);"
   ]
  },
  {
   "cell_type": "markdown",
   "metadata": {},
   "source": [
    "## Results:"
   ]
  },
  {
   "cell_type": "markdown",
   "metadata": {},
   "source": [
    "- Based on our problem statement, the aim is to create a model that is able to generalize well across new observations and accurately predict the origin of the posts from the correct subreddit.\n",
    "- As there is neither a significant cost of False Positive/ False Negative in this business context, the F1 Score is a better measure to use if we need to seek a balance between Precision and Recall AND there is an uneven class distribution (large number of Actual Negatives).\n",
    "- Comparing the F1 Score of the Multinomial Naive Bayes Model (83.86%) and the Logistic Regression Model (78.92%), we can see that the Multinomial Naive Bayes Model is the better model in solving our problem statement. "
   ]
  }
 ],
 "metadata": {
  "kernelspec": {
   "display_name": "Python 3",
   "language": "python",
   "name": "python3"
  },
  "language_info": {
   "codemirror_mode": {
    "name": "ipython",
    "version": 3
   },
   "file_extension": ".py",
   "mimetype": "text/x-python",
   "name": "python",
   "nbconvert_exporter": "python",
   "pygments_lexer": "ipython3",
   "version": "3.7.4"
  }
 },
 "nbformat": 4,
 "nbformat_minor": 2
}
