{
 "cells": [
  {
   "cell_type": "code",
   "execution_count": 1,
   "metadata": {},
   "outputs": [],
   "source": [
    "# import required libraries required\n",
    "import pandas as pd\n",
    "import numpy as np\n",
    "import re\n",
    "import matplotlib.pyplot as plt \n",
    "from sklearn.svm import SVC\n",
    "from sklearn.metrics import roc_auc_score\n",
    "from sklearn.tree import DecisionTreeClassifier\n",
    "from sklearn.model_selection import train_test_split, GridSearchCV\n",
    "from sklearn.ensemble import RandomForestClassifier, ExtraTreesClassifier\n",
    "from imblearn.over_sampling import SMOTE\n",
    "from xgboost.sklearn import XGBClassifier\n",
    "from sklearn.metrics import confusion_matrix, accuracy_score, precision_score, roc_auc_score\n",
    "import time\n",
    "\n",
    "\n",
    "pd.set_option('display.max_columns', 999)"
   ]
  },
  {
   "cell_type": "code",
   "execution_count": 2,
   "metadata": {},
   "outputs": [],
   "source": [
    "#Read merged dataset in csv format\n",
    "#This dataset has element of time series, we have splitted the train data w.r.t year.\n",
    "# we have train, validation and test dataset\n",
    "df =pd.read_csv('../data/train_070911.csv') \n",
    "df_val=pd.read_csv('../data/train2013.csv')\n",
    "df_test=pd.read_csv('../data/weather_test_merged.csv')\n"
   ]
  },
  {
   "cell_type": "code",
   "execution_count": 3,
   "metadata": {},
   "outputs": [
    {
     "name": "stdout",
     "output_type": "stream",
     "text": [
      "(6552, 67)\n",
      "(2058, 67)\n",
      "(116293, 66)\n"
     ]
    }
   ],
   "source": [
    "# sanity shape of train/val/test shape\n",
    "print(df.shape)\n",
    "print(df_val.shape)\n",
    "print(df_test.shape)"
   ]
  },
  {
   "cell_type": "code",
   "execution_count": 4,
   "metadata": {},
   "outputs": [],
   "source": [
    "#drop cols for train set\n",
    "target_df = df['WnvPresent']\n",
    "drop_columns = ['Date','Trap','NumMosquitos','month','year_month','WnvPresent','carrier','Latitude','Longitude','week_y','Station','station','Sunrise',\n",
    "                'Sunset','sunrise_clean','sunset_clean','month','year_y','day','WetBulb','Tmin','Tmax','ResultDir']\n",
    "\n",
    "df.drop(columns = drop_columns,inplace=True)"
   ]
  },
  {
   "cell_type": "code",
   "execution_count": 5,
   "metadata": {},
   "outputs": [],
   "source": [
    "# drop cols for val set\n",
    "target_dfval = df_val['WnvPresent']\n",
    "drop_columns = ['Date','NumMosquitos','Trap','month','year_month','WnvPresent','carrier','Latitude','Longitude','week_y','Station','station','Sunrise',\n",
    "                'Sunset','sunrise_clean','sunset_clean','month','year_y','day','WetBulb','Tmin','Tmax','ResultDir']\n",
    "df_val.drop(columns = drop_columns,inplace=True)"
   ]
  },
  {
   "cell_type": "code",
   "execution_count": 6,
   "metadata": {},
   "outputs": [],
   "source": [
    "#drop cols for test set\n",
    "drop_columns = ['Date','Trap','month','year_month','carrier','Latitude','Longitude','week_y','Station','station','Sunrise',\n",
    "                'Sunset','sunrise_clean','sunset_clean','month','year_y','day','WetBulb','Tmin','Tmax','ResultDir']\n",
    "df_test = df_test[list(df_test.columns.values)]\n",
    "\n",
    "df_test.drop(columns = drop_columns,inplace=True)"
   ]
  },
  {
   "cell_type": "code",
   "execution_count": 7,
   "metadata": {},
   "outputs": [
    {
     "name": "stdout",
     "output_type": "stream",
     "text": [
      "(6552, 45)\n",
      "(2058, 45)\n",
      "(116293, 46)\n"
     ]
    }
   ],
   "source": [
    "# sanity check to ensure shape integrity \n",
    "print(df.shape)\n",
    "print(df_val.shape)\n",
    "print(df_test.shape)"
   ]
  },
  {
   "cell_type": "code",
   "execution_count": 8,
   "metadata": {},
   "outputs": [],
   "source": [
    "##variable assignment\n",
    "X_train=df\n",
    "X_test= df_val\n",
    "y_train=target_df\n",
    "y_test=target_dfval\n",
    "\n"
   ]
  },
  {
   "cell_type": "markdown",
   "metadata": {},
   "source": [
    "## Synthetic Minority Oversampling TEchnique a.k.a Smote\n",
    "\n",
    "Classification using class-imbalanced data is biased in favor of the majority class. The bias is even larger for high-dimensional data, where the number of variables greatly exceeds the number of samples. The problem can be attenuated by undersampling or oversampling, which produce class-balanced data. In the below scenario, we have chose to use smote to counter this imbalanced data biasness."
   ]
  },
  {
   "cell_type": "code",
   "execution_count": 9,
   "metadata": {},
   "outputs": [
    {
     "name": "stdout",
     "output_type": "stream",
     "text": [
      "ytrain imbalanced:\n"
     ]
    },
    {
     "data": {
      "image/png": "[encoded data removed]",
      "text/plain": [
       "<Figure size 144x144 with 1 Axes>"
      ]
     },
     "metadata": {
      "needs_background": "light"
     },
     "output_type": "display_data"
    }
   ],
   "source": [
    "# it was clearly evident that there was an imblance data\n",
    "print('ytrain imbalanced:')\n",
    "p=y_train.hist(figsize=(2,2),bins=2)"
   ]
  },
  {
   "cell_type": "code",
   "execution_count": 10,
   "metadata": {},
   "outputs": [
    {
     "name": "stdout",
     "output_type": "stream",
     "text": [
      "ytrain balanced:\n"
     ]
    },
    {
     "data": {
      "image/png": "[encoded data removed]",
      "text/plain": [
       "<Figure size 144x144 with 1 Axes>"
      ]
     },
     "metadata": {
      "needs_background": "light"
     },
     "output_type": "display_data"
    }
   ],
   "source": [
    "# balance and show the output after smote \n",
    "smt=SMOTE(random_state=42)\n",
    "smtXtrain,smtytrain=smt.fit_sample(X_train,y_train)\n",
    "print('ytrain balanced:')\n",
    "p=pd.DataFrame((smtytrain)).hist(figsize=(2,2),bins=1)"
   ]
  },
  {
   "cell_type": "code",
   "execution_count": 11,
   "metadata": {},
   "outputs": [],
   "source": [
    "# function for scoring metrics\n",
    "def eval_metrics(y_true, predictions, model=None, X=None):\n",
    "\n",
    "    cnf_matrix = confusion_matrix(y_true, predictions)\n",
    "\n",
    "    print('True Negative: ', cnf_matrix[0, 0], '| False Positive: ', cnf_matrix[0, 1])\n",
    "    print('False Negative: ', cnf_matrix[1, 0], '| True Positive: ', cnf_matrix[1, 1], '\\n')\n",
    "\n",
    "    sensitivity = cnf_matrix[1, 1]/ (cnf_matrix[1, 0] + cnf_matrix[1, 1])\n",
    "    specificity = cnf_matrix[0, 0]/ (cnf_matrix[0, 1] + cnf_matrix[0, 0])\n",
    "\n",
    "    print('Sensitivity (TP/ TP + FN): ', sensitivity)\n",
    "    print('Specificity (TN/ TN + FP): ', specificity, '\\n')\n",
    "\n",
    "    print('Accuracy: ', accuracy_score(y_true, predictions, normalize=True))\n",
    "    print('Precision: ', precision_score(y_true, predictions))\n",
    "    if model != None:\n",
    "        print('Roc-Auc: ', roc_auc_score(y_true, [x[1] for x in model.predict_proba(X)]))\n",
    "    else:\n",
    "        pass\n",
    "    print('\\n')"
   ]
  },
  {
   "cell_type": "markdown",
   "metadata": {},
   "source": [
    "##  Model for ExtraTrees"
   ]
  },
  {
   "cell_type": "code",
   "execution_count": 12,
   "metadata": {},
   "outputs": [
    {
     "name": "stdout",
     "output_type": "stream",
     "text": [
      "CPU times: user 4 µs, sys: 1e+03 ns, total: 5 µs\n",
      "Wall time: 9.06 µs\n",
      "Extra Trees TEST SCORE:\n",
      "\n",
      "True Negative:  1459 | False Positive:  400\n",
      "False Negative:  94 | True Positive:  105 \n",
      "\n",
      "Sensitivity (TP/ TP + FN):  0.5276381909547738\n",
      "Specificity (TN/ TN + FP):  0.7848305540613233 \n",
      "\n",
      "Accuracy:  0.7599611273080661\n",
      "Precision:  0.2079207920792079\n",
      "Roc-Auc:  0.7508778426830224\n",
      "\n",
      "\n"
     ]
    }
   ],
   "source": [
    "# ET model and score with val set\n",
    "%time\n",
    "etc = ExtraTreesClassifier(class_weight='balanced', max_features='sqrt', min_samples_leaf=5, n_estimators=100, n_jobs=-1)\n",
    "etc.fit(smtXtrain, smtytrain)\n",
    "test_predictions = etc.predict(X_test)\n",
    "print('Extra Trees TEST SCORE:\\n')\n",
    "eval_metrics(y_test, test_predictions,model=etc,X=X_test)\n"
   ]
  },
  {
   "cell_type": "markdown",
   "metadata": {},
   "source": [
    "## Model for RandomForestClassifier"
   ]
  },
  {
   "cell_type": "code",
   "execution_count": 13,
   "metadata": {},
   "outputs": [
    {
     "name": "stdout",
     "output_type": "stream",
     "text": [
      "CPU times: user 2 µs, sys: 1 µs, total: 3 µs\n",
      "Wall time: 4.77 µs\n",
      "Random Forest TEST SCORE:\n",
      "\n",
      "True Negative:  1526 | False Positive:  333\n",
      "False Negative:  109 | True Positive:  90 \n",
      "\n",
      "Sensitivity (TP/ TP + FN):  0.45226130653266333\n",
      "Specificity (TN/ TN + FP):  0.8208714362560516 \n",
      "\n",
      "Accuracy:  0.7852283770651117\n",
      "Precision:  0.2127659574468085\n",
      "Roc-Auc:  0.7498939020005893\n",
      "\n",
      "\n"
     ]
    }
   ],
   "source": [
    "# RF model and score with val set\n",
    "\n",
    "%time\n",
    "rfc = RandomForestClassifier(class_weight='balanced', max_features='sqrt', min_samples_leaf=5, n_estimators=1000, n_jobs=-1)\n",
    "rfc.fit(smtXtrain, smtytrain)\n",
    "test_predictions = rfc.predict(X_test)\n",
    "print('Random Forest TEST SCORE:\\n')\n",
    "eval_metrics(y_test, test_predictions,model=rfc,X=X_test)"
   ]
  },
  {
   "cell_type": "markdown",
   "metadata": {},
   "source": [
    "## Gridsearch"
   ]
  },
  {
   "cell_type": "markdown",
   "metadata": {},
   "source": [
    "In this section, we have performed Gridsearch on both classifier to get the optimal parameters for respective classifier."
   ]
  },
  {
   "cell_type": "markdown",
   "metadata": {},
   "source": [
    "### For ExtraTrees"
   ]
  },
  {
   "cell_type": "code",
   "execution_count": 14,
   "metadata": {},
   "outputs": [
    {
     "name": "stdout",
     "output_type": "stream",
     "text": [
      "Fitting 3 folds for each of 30 candidates, totalling 90 fits\n"
     ]
    },
    {
     "name": "stderr",
     "output_type": "stream",
     "text": [
      "[Parallel(n_jobs=1)]: Using backend SequentialBackend with 1 concurrent workers.\n",
      "[Parallel(n_jobs=1)]: Done  90 out of  90 | elapsed:  1.8min finished\n"
     ]
    },
    {
     "name": "stdout",
     "output_type": "stream",
     "text": [
      "Number of Models Run:  90\n",
      "Extra Tree Classifier Score: 0.756 \n",
      "\n",
      "Elapsed Time: 1.1e+02  seconds \n",
      "\n",
      "ExtraTreesClassifier(bootstrap=False, ccp_alpha=0.0, class_weight='balanced',\n",
      "                     criterion='gini', max_depth=4, max_features='auto',\n",
      "                     max_leaf_nodes=None, max_samples=None,\n",
      "                     min_impurity_decrease=0.0, min_impurity_split=None,\n",
      "                     min_samples_leaf=4, min_samples_split=2,\n",
      "                     min_weight_fraction_leaf=0.0, n_estimators=100, n_jobs=-1,\n",
      "                     oob_score=False, random_state=None, verbose=0,\n",
      "                     warm_start=False) \n",
      "\n",
      "Best Hyperparameters we tested for \n",
      " {'params': [('max_depth', 4), ('min_samples_leaf', 4), ('n_estimators', 100)], 'score': 0.8368187294147013}\n",
      "Grid Search TEST SCORE:\n",
      "\n",
      "True Negative:  1456 | False Positive:  403\n",
      "False Negative:  100 | True Positive:  99 \n",
      "\n",
      "Sensitivity (TP/ TP + FN):  0.49748743718592964\n",
      "Specificity (TN/ TN + FP):  0.7832167832167832 \n",
      "\n",
      "Accuracy:  0.7555879494655005\n",
      "Precision:  0.19721115537848605\n",
      "Roc-Auc:  0.741081685998578\n",
      "\n",
      "\n"
     ]
    }
   ],
   "source": [
    "# ExtraTrees GridSearch for best params\n",
    "\n",
    "start_time = time.time()\n",
    "\n",
    "#  estimators \n",
    "param_grid = dict(n_estimators = [100, 1000],\n",
    "                 max_depth=[3,4,5],\n",
    "                 min_samples_leaf = [2, 3, 4, 5, 6]\n",
    "                 )\n",
    "# Cross val\n",
    "cross_val=3\n",
    "#ExtraTrees Classifer model\n",
    "model = ExtraTreesClassifier(class_weight='balanced', n_jobs=-1)\n",
    "\n",
    "#Gridsearch\n",
    "grid = GridSearchCV(model, param_grid, cv=cross_val, scoring='roc_auc', verbose=1)\n",
    "\n",
    "grid.fit(smtXtrain, smtytrain)\n",
    "\n",
    "best_results = {'params': list(grid.best_params_.items()), 'score': grid.best_score_}\n",
    "#re-fit model with optimize best estimator for ET\n",
    "best_model = grid.best_estimator_\n",
    "\n",
    "best_model = best_model.fit(smtXtrain, smtytrain)\n",
    "\n",
    "score = best_model.score(X_test, y_test)\n",
    "\n",
    "#print Gridsearch results\n",
    "print('Number of Models Run: ', np.prod([len(param_grid[i]) for i in param_grid]) * cross_val)\n",
    "print(\"{} Score: {:0.3}\".format('Extra Tree Classifier', score.mean().round(3)), '\\n')\n",
    "print('Elapsed Time: {:0.3}'.format( time.time() - start_time), ' seconds', '\\n')\n",
    "print(grid.best_estimator_, '\\n')\n",
    "print('Best Hyperparameters we tested for', '\\n', best_results)\n",
    "\n",
    "\n",
    "#for Extra Tree train/val score\n",
    "test_predictions = best_model.predict(X_test)\n",
    "print('Grid Search TEST SCORE:\\n')\n",
    "eval_metrics(y_test, test_predictions, model=best_model, X=X_test)"
   ]
  },
  {
   "cell_type": "code",
   "execution_count": 15,
   "metadata": {},
   "outputs": [
    {
     "name": "stdout",
     "output_type": "stream",
     "text": [
      "Fitting 3 folds for each of 30 candidates, totalling 90 fits\n"
     ]
    },
    {
     "name": "stderr",
     "output_type": "stream",
     "text": [
      "[Parallel(n_jobs=1)]: Using backend SequentialBackend with 1 concurrent workers.\n",
      "[Parallel(n_jobs=1)]: Done  90 out of  90 | elapsed:  3.8min finished\n"
     ]
    },
    {
     "name": "stdout",
     "output_type": "stream",
     "text": [
      "Number of Models Run:  90\n",
      "Random Tree Classifier Score: 0.773 \n",
      "\n",
      "Elapsed Time: 2.27e+02  seconds \n",
      "\n",
      "RandomForestClassifier(bootstrap=True, ccp_alpha=0.0, class_weight='balanced',\n",
      "                       criterion='gini', max_depth=4, max_features='auto',\n",
      "                       max_leaf_nodes=None, max_samples=None,\n",
      "                       min_impurity_decrease=0.0, min_impurity_split=None,\n",
      "                       min_samples_leaf=4, min_samples_split=2,\n",
      "                       min_weight_fraction_leaf=0.0, n_estimators=100,\n",
      "                       n_jobs=None, oob_score=False, random_state=None,\n",
      "                       verbose=0, warm_start=False) \n",
      "\n",
      "Best Hyperparameters we tested for \n",
      " {'params': [('max_depth', 4), ('min_samples_leaf', 4), ('n_estimators', 100)], 'score': 0.811229535111897}\n",
      "Grid Search TEST SCORE:\n",
      "\n",
      "True Negative:  1497 | False Positive:  362\n",
      "False Negative:  105 | True Positive:  94 \n",
      "\n",
      "Sensitivity (TP/ TP + FN):  0.4723618090452261\n",
      "Specificity (TN/ TN + FP):  0.8052716514254976 \n",
      "\n",
      "Accuracy:  0.7730806608357629\n",
      "Precision:  0.20614035087719298\n",
      "Roc-Auc:  0.7399598854952546\n",
      "\n",
      "\n"
     ]
    }
   ],
   "source": [
    "# Randomforest GridSearch for best params\n",
    "start_time = time.time()\n",
    "\n",
    "#  estimators \n",
    "param_grid = dict(n_estimators = [100, 1000],\n",
    "                 max_depth=[3,4,5],\n",
    "                 min_samples_leaf = [2, 3, 4, 5, 6]\n",
    "               )\n",
    "#cross val\n",
    "cross_val=3\n",
    "\n",
    "model_rf = RandomForestClassifier(class_weight='balanced')\n",
    "#Gridsearch\n",
    "\n",
    "grid_rf = GridSearchCV(model_rf, param_grid, cv=cross_val, scoring='roc_auc', verbose=1)\n",
    "\n",
    "grid_rf.fit(smtXtrain, smtytrain)\n",
    "\n",
    "best_results_rf = {'params': list(grid_rf.best_params_.items()), 'score': grid_rf.best_score_}\n",
    "\n",
    "#re-fit model with optimize best estimator for RF\n",
    "\n",
    "best_model_rf = grid_rf.best_estimator_\n",
    "\n",
    "best_model_rf = best_model_rf.fit(smtXtrain, smtytrain)\n",
    "\n",
    "score_rf = best_model_rf.score(X_test, y_test)\n",
    "\n",
    "#print Gridsearch results\n",
    "print('Number of Models Run: ', np.prod([len(param_grid[i]) for i in param_grid]) * cross_val)\n",
    "print(\"{} Score: {:0.3}\".format('Random Tree Classifier', score_rf.mean().round(3)), '\\n')\n",
    "print('Elapsed Time: {:0.3}'.format( time.time() - start_time), ' seconds', '\\n')\n",
    "print(grid_rf.best_estimator_, '\\n')\n",
    "print('Best Hyperparameters we tested for', '\\n', best_results_rf)\n",
    "\n",
    "# for RandomTree train/val score\n",
    "test_predictions_rf = best_model_rf.predict(X_test)\n",
    "print('Grid Search TEST SCORE:\\n')\n",
    "eval_metrics(y_test, test_predictions_rf, model=best_model_rf, X=X_test)"
   ]
  },
  {
   "cell_type": "markdown",
   "metadata": {},
   "source": [
    "## Feature evaluation"
   ]
  },
  {
   "cell_type": "code",
   "execution_count": 16,
   "metadata": {},
   "outputs": [
    {
     "data": {
      "text/html": [
       "<div>\n",
       "<style scoped>\n",
       "    .dataframe tbody tr th:only-of-type {\n",
       "        vertical-align: middle;\n",
       "    }\n",
       "\n",
       "    .dataframe tbody tr th {\n",
       "        vertical-align: top;\n",
       "    }\n",
       "\n",
       "    .dataframe thead th {\n",
       "        text-align: right;\n",
       "    }\n",
       "</style>\n",
       "<table border=\"1\" class=\"dataframe\">\n",
       "  <thead>\n",
       "    <tr style=\"text-align: right;\">\n",
       "      <th></th>\n",
       "      <th>feature</th>\n",
       "      <th>importance</th>\n",
       "    </tr>\n",
       "  </thead>\n",
       "  <tbody>\n",
       "    <tr>\n",
       "      <th>7</th>\n",
       "      <td>species_restuans</td>\n",
       "      <td>0.136183</td>\n",
       "    </tr>\n",
       "    <tr>\n",
       "      <th>0</th>\n",
       "      <td>jul</td>\n",
       "      <td>0.112191</td>\n",
       "    </tr>\n",
       "    <tr>\n",
       "      <th>39</th>\n",
       "      <td>DaylightHrs_lag_3</td>\n",
       "      <td>0.095654</td>\n",
       "    </tr>\n",
       "    <tr>\n",
       "      <th>38</th>\n",
       "      <td>DaylightHrs_lag_1</td>\n",
       "      <td>0.084396</td>\n",
       "    </tr>\n",
       "    <tr>\n",
       "      <th>37</th>\n",
       "      <td>DaylightHrs</td>\n",
       "      <td>0.079628</td>\n",
       "    </tr>\n",
       "    <tr>\n",
       "      <th>1</th>\n",
       "      <td>jun</td>\n",
       "      <td>0.071317</td>\n",
       "    </tr>\n",
       "    <tr>\n",
       "      <th>40</th>\n",
       "      <td>DaylightHrs_lag_7</td>\n",
       "      <td>0.070182</td>\n",
       "    </tr>\n",
       "    <tr>\n",
       "      <th>13</th>\n",
       "      <td>DewPoint</td>\n",
       "      <td>0.042903</td>\n",
       "    </tr>\n",
       "    <tr>\n",
       "      <th>15</th>\n",
       "      <td>Cool</td>\n",
       "      <td>0.034260</td>\n",
       "    </tr>\n",
       "    <tr>\n",
       "      <th>12</th>\n",
       "      <td>Tavg</td>\n",
       "      <td>0.023069</td>\n",
       "    </tr>\n",
       "  </tbody>\n",
       "</table>\n",
       "</div>"
      ],
      "text/plain": [
       "              feature  importance\n",
       "7    species_restuans    0.136183\n",
       "0                 jul    0.112191\n",
       "39  DaylightHrs_lag_3    0.095654\n",
       "38  DaylightHrs_lag_1    0.084396\n",
       "37        DaylightHrs    0.079628\n",
       "1                 jun    0.071317\n",
       "40  DaylightHrs_lag_7    0.070182\n",
       "13           DewPoint    0.042903\n",
       "15               Cool    0.034260\n",
       "12               Tavg    0.023069"
      ]
     },
     "execution_count": 16,
     "metadata": {},
     "output_type": "execute_result"
    }
   ],
   "source": [
    "# ExtraTree top 10 features\n",
    "feature_import = best_model.feature_importances_\n",
    "features = df.columns\n",
    "features_et=pd.DataFrame(columns=['feature', 'importance'], \n",
    "             data=list(zip(features, feature_import))).sort_values('importance',ascending=False)\n",
    "features_et.head(10)"
   ]
  },
  {
   "cell_type": "code",
   "execution_count": 17,
   "metadata": {},
   "outputs": [
    {
     "data": {
      "text/html": [
       "<div>\n",
       "<style scoped>\n",
       "    .dataframe tbody tr th:only-of-type {\n",
       "        vertical-align: middle;\n",
       "    }\n",
       "\n",
       "    .dataframe tbody tr th {\n",
       "        vertical-align: top;\n",
       "    }\n",
       "\n",
       "    .dataframe thead th {\n",
       "        text-align: right;\n",
       "    }\n",
       "</style>\n",
       "<table border=\"1\" class=\"dataframe\">\n",
       "  <thead>\n",
       "    <tr style=\"text-align: right;\">\n",
       "      <th></th>\n",
       "      <th>feature</th>\n",
       "      <th>importance</th>\n",
       "    </tr>\n",
       "  </thead>\n",
       "  <tbody>\n",
       "    <tr>\n",
       "      <th>38</th>\n",
       "      <td>DaylightHrs_lag_1</td>\n",
       "      <td>0.135440</td>\n",
       "    </tr>\n",
       "    <tr>\n",
       "      <th>40</th>\n",
       "      <td>DaylightHrs_lag_7</td>\n",
       "      <td>0.125597</td>\n",
       "    </tr>\n",
       "    <tr>\n",
       "      <th>39</th>\n",
       "      <td>DaylightHrs_lag_3</td>\n",
       "      <td>0.102975</td>\n",
       "    </tr>\n",
       "    <tr>\n",
       "      <th>7</th>\n",
       "      <td>species_restuans</td>\n",
       "      <td>0.085527</td>\n",
       "    </tr>\n",
       "    <tr>\n",
       "      <th>0</th>\n",
       "      <td>jul</td>\n",
       "      <td>0.067690</td>\n",
       "    </tr>\n",
       "    <tr>\n",
       "      <th>13</th>\n",
       "      <td>DewPoint</td>\n",
       "      <td>0.055799</td>\n",
       "    </tr>\n",
       "    <tr>\n",
       "      <th>37</th>\n",
       "      <td>DaylightHrs</td>\n",
       "      <td>0.054549</td>\n",
       "    </tr>\n",
       "    <tr>\n",
       "      <th>1</th>\n",
       "      <td>jun</td>\n",
       "      <td>0.038197</td>\n",
       "    </tr>\n",
       "    <tr>\n",
       "      <th>21</th>\n",
       "      <td>AvgSpeed</td>\n",
       "      <td>0.036365</td>\n",
       "    </tr>\n",
       "    <tr>\n",
       "      <th>15</th>\n",
       "      <td>Cool</td>\n",
       "      <td>0.033981</td>\n",
       "    </tr>\n",
       "  </tbody>\n",
       "</table>\n",
       "</div>"
      ],
      "text/plain": [
       "              feature  importance\n",
       "38  DaylightHrs_lag_1    0.135440\n",
       "40  DaylightHrs_lag_7    0.125597\n",
       "39  DaylightHrs_lag_3    0.102975\n",
       "7    species_restuans    0.085527\n",
       "0                 jul    0.067690\n",
       "13           DewPoint    0.055799\n",
       "37        DaylightHrs    0.054549\n",
       "1                 jun    0.038197\n",
       "21           AvgSpeed    0.036365\n",
       "15               Cool    0.033981"
      ]
     },
     "execution_count": 17,
     "metadata": {},
     "output_type": "execute_result"
    }
   ],
   "source": [
    "# RandomTree top 10 feature \n",
    "feature_import_rf = best_model_rf.feature_importances_\n",
    "features = df.columns\n",
    "features_rf= pd.DataFrame(columns=['feature', 'importance'], \n",
    "             data=list(zip(features, feature_import_rf))).sort_values('importance',ascending=False)\n",
    "features_rf.head(10)"
   ]
  },
  {
   "cell_type": "markdown",
   "metadata": {},
   "source": [
    "### Testing with test data"
   ]
  },
  {
   "cell_type": "code",
   "execution_count": 18,
   "metadata": {},
   "outputs": [],
   "source": [
    "# in order for columns to match, we set Id as index \n",
    "df_test.set_index('Id',inplace=True)"
   ]
  },
  {
   "cell_type": "code",
   "execution_count": 19,
   "metadata": {},
   "outputs": [],
   "source": [
    "##ExtraTrees\n",
    "#assigning predict probab into pred variable\n",
    "pred = best_model.predict_proba(df_test)\n",
    "pred=[i[1] for i in pred]"
   ]
  },
  {
   "cell_type": "code",
   "execution_count": 20,
   "metadata": {},
   "outputs": [],
   "source": [
    "## RandomForest\n",
    "#assigning predict probab into pred_rf variable\n",
    "pred_rf = best_model_rf.predict_proba(df_test)\n",
    "pred_rf=[i[1] for i in pred_rf]"
   ]
  },
  {
   "cell_type": "code",
   "execution_count": 21,
   "metadata": {},
   "outputs": [],
   "source": [
    "#assigning pred into 'WnvPresent' for kaggle submission\n",
    "final=pd.DataFrame(df_test.index,columns=['Id'])\n",
    "final['WnvPresent']=pred"
   ]
  },
  {
   "cell_type": "code",
   "execution_count": 22,
   "metadata": {},
   "outputs": [],
   "source": [
    "#assigning pred_rf into 'WnvPresent' for kaggle submission\n",
    "final_rf=pd.DataFrame(df_test.index,columns=['Id'])\n",
    "final_rf['WnvPresent']=pred_rf"
   ]
  },
  {
   "cell_type": "code",
   "execution_count": 23,
   "metadata": {},
   "outputs": [],
   "source": [
    "#output into csv\n",
    "final.to_csv('../data/submission_new_et.csv',index=False)\n",
    "final_rf.to_csv('../data/submission_new_rf.csv',index=False)\n"
   ]
  },
  {
   "cell_type": "markdown",
   "metadata": {},
   "source": [
    "### Model Evaluation\n",
    "\n",
    "We have performed modelling with ExtraTrees, Random Forest, Support Vector Machine and XGBoost classifier. Through this modelling process, we have scored the performance of the various models on Kaggle. Based on the highest ROC-AUC score, we have selected ExtraTrees Classifier as our model.\n",
    "\n",
    "|                            | ExtraTrees | Random Forest | XGBoost |  SVM  |\n",
    "| :------------------------: | :--------: | :-----------: | :-----: | :---: |\n",
    "|       ROC-AUC Score        |   0.745    |     0.737     |  0.724  | 0.715 |\n",
    "| Performance on Unseen Data |   0.687    |     0.669     |  0.683  | 0.642 |"
   ]
  },
  {
   "cell_type": "markdown",
   "metadata": {},
   "source": [
    "### Conclusion\n",
    "\n",
    "\n"
   ]
  },
  {
   "cell_type": "markdown",
   "metadata": {},
   "source": [
    "Based on our study, we had a reasonable prediction of WNV presence by trap. By performing cost-benefit analysis, we uncovered the estimated cost for spray versus medical cost and productivity loss in the public. Asides that, West Nile Virus is not the only disease which mosquitoes carries. We encourage that public needs to be aware of other  diseases which mosquitoes carries and its health threats."
   ]
  }
 ],
 "metadata": {
  "kernelspec": {
   "display_name": "Python 3",
   "language": "python",
   "name": "python3"
  },
  "language_info": {
   "codemirror_mode": {
    "name": "ipython",
    "version": 3
   },
   "file_extension": ".py",
   "mimetype": "text/x-python",
   "name": "python",
   "nbconvert_exporter": "python",
   "pygments_lexer": "ipython3",
   "version": "3.7.4"
  }
 },
 "nbformat": 4,
 "nbformat_minor": 2
}
